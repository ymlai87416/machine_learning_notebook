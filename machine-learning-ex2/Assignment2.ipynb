{
 "cells": [
  {
   "cell_type": "markdown",
   "metadata": {
    "collapsed": true
   },
   "source": [
    "# Programming Exercise 2: Logistic Regression"
   ]
  },
  {
   "cell_type": "markdown",
   "metadata": {},
   "source": [
    "## Introduction\n",
    "In this exercise, you will implement logistic regression and apply it to two different datasets. Before starting on the programming exercise, we strongly\n",
    "recommend watching the video lectures and completing the review questions for the associated topics.\n",
    "\n",
    "To get started with the exercise, you will need to download the starter code and unzip its contents to the directory where you wish to complete the exercise. "
   ]
  },
  {
   "cell_type": "code",
   "execution_count": 1,
   "metadata": {
    "collapsed": true
   },
   "outputs": [],
   "source": [
    "from __future__ import division\n",
    "import numpy as np\n",
    "import matplotlib.pyplot as plt\n",
    "from mpl_toolkits.mplot3d import Axes3D\n",
    "from scipy.optimize import fmin_bfgs, minimize\n",
    "\n",
    "%matplotlib inline"
   ]
  },
  {
   "cell_type": "markdown",
   "metadata": {},
   "source": [
    "## 1 Logistic Regression\n",
    "In this part of the exercise, you will build a logistic regression model to predict whether a student gets admitted into a university.\n",
    "Suppose that you are the administrator of a university department and you want to determine each applicant's chance of admission based on their results on two exams. You have historical data from previous applicants\n",
    "that you can use as a training set for logistic regression. For each training example, you have the applicant's scores on two exams and the admissions\n",
    "decision.\n",
    "\n",
    "Your task is to build a classification model that estimates an applicant's probability of admission based the scores from those two exams. "
   ]
  },
  {
   "cell_type": "markdown",
   "metadata": {},
   "source": [
    "### 1.1 Visualizing the data\n",
    "Before starting to implement any learning algorithm, it is always good to visualize the data if possible. The code will load the\n",
    "data and display it on a 2-dimensional plot by calling the function plotData. You will now complete the code in plotData so that it displays a figure like Figure 1, where the axes are the two exam scores, and the positive and negative examples are shown with different markers.\n",
    "\n",
    "To help you get more familiar with plotting, we have left plotData empty so you can try to implement it yourself. However, this is an optional (ungraded) exercise. We also provide our implementation below so you can copy it or refer to it."
   ]
  },
  {
   "cell_type": "code",
   "execution_count": 2,
   "metadata": {
    "collapsed": true
   },
   "outputs": [],
   "source": [
    "# read in the data\n",
    "data = np.loadtxt('ex2data1.txt', delimiter=',')\n",
    "data = np.asmatrix(data)\n",
    "X, y = data[:,:2], data[:,2]\n",
    "m = len(y)"
   ]
  },
  {
   "cell_type": "code",
   "execution_count": 3,
   "metadata": {
    "collapsed": true
   },
   "outputs": [],
   "source": [
    "def plotData(Xcol, ycol):\n",
    "    \n",
    "    X = np.asarray(Xcol)\n",
    "    y = np.asarray(np.asarray(ycol)).flatten()\n",
    "    # get indices of 1 and 0 y values\n",
    "    pos = y == 1\n",
    "    neg = y == 0\n",
    "    \n",
    "    # plot positive (i.e., accepted) points\n",
    "    plt.plot(X[pos,0], X[pos,1], '+', color='k', ms=7,\n",
    "             mew=2, label=r'Admitted')\n",
    "    \n",
    "    # plot negative (i.e., not accepted) points\n",
    "    plt.plot(X[neg,0], X[neg,1], 'o', color='y', ms=7,\n",
    "            label=r'Not Admitted')\n",
    "\n",
    "    plt.xlabel('Exam 1 score')\n",
    "    plt.ylabel('Exam 2 score')\n",
    "\n",
    "    plt.legend(loc='lower left')"
   ]
  },
  {
   "cell_type": "code",
   "execution_count": 4,
   "metadata": {},
   "outputs": [
    {
     "name": "stdout",
     "output_type": "stream",
     "text": [
      "Plotting data with + indicating (y = 1) examples and o indicating (y = 0) examples.\n",
      "\n"
     ]
    },
    {
     "data": {
      "image/png": "[encoded data removed]",
      "text/plain": [
       "<matplotlib.figure.Figure at 0x7f8d0a77e710>"
      ]
     },
     "metadata": {},
     "output_type": "display_data"
    }
   ],
   "source": [
    "# ==================== Part 1: Plotting ====================\n",
    "#  We start the exercise by first plotting the data to understand the \n",
    "#  the problem we are working with.\n",
    "\n",
    "print('Plotting data with + indicating (y = 1) examples and o indicating (y = 0) examples.\\n');\n",
    "\n",
    "fig = plt.figure()\n",
    "\n",
    "plotData(X, y);"
   ]
  },
  {
   "cell_type": "markdown",
   "metadata": {},
   "source": [
    "### 1.2 Implementation\n",
    "#### 1.2.1 Warmup exercise: sigmoid function\n",
    "\n",
    "Before you start with the actual cost function, recall that the logistic regression hypothesis is defined as:\n",
    "$$h_{\\theta}(x) = g(\\theta^Tx);$$\n",
    "where function g is the sigmoid function. The sigmoid function is defined as:\n",
    "$$g(z)=\\frac{1}{1+e^{-z}}$$\n",
    "\n",
    "Your first step is to implement this function in sigmoid.m so it can be called by the rest of your program. When you are finished, try testing a few values by calling sigmoid(x). For large positive values of x, the sigmoid should be close to 1, while for large negative values, the sigmoid should be close to 0. Evaluating sigmoid(0) should give you exactly 0.5. Your code should also work with vectors and matrices. For a matrix, your function should perform the sigmoid function on every element."
   ]
  },
  {
   "cell_type": "code",
   "execution_count": 5,
   "metadata": {
    "collapsed": true
   },
   "outputs": [],
   "source": [
    "def sigmoid(z):\n",
    "    return 1 / (1 + np.exp(-z))"
   ]
  },
  {
   "cell_type": "code",
   "execution_count": 6,
   "metadata": {},
   "outputs": [
    {
     "data": {
      "text/plain": [
       "<matplotlib.text.Text at 0x7f8d35f2ab70>"
      ]
     },
     "execution_count": 6,
     "metadata": {},
     "output_type": "execute_result"
    },
    {
     "data": {
      "image/png": "[encoded data removed]",
      "text/plain": [
       "<matplotlib.figure.Figure at 0x7f8d0a78b6d8>"
      ]
     },
     "metadata": {},
     "output_type": "display_data"
    }
   ],
   "source": [
    "# test on a few values\n",
    "xx = np.linspace(-10, 10, 1000)\n",
    "\n",
    "# plot sigmoid function vs. x\n",
    "plt.plot(xx, sigmoid(xx))\n",
    "plt.xlabel(r'$x$')\n",
    "plt.ylabel(r'$g(x)$')"
   ]
  },
  {
   "cell_type": "markdown",
   "metadata": {},
   "source": [
    "#### 1.2.2 Cost function and gradient\n",
    "Now you will implement the cost function and gradient for logistic regression. Complete the code in costFunction.m to return the cost and gradient.\n",
    "Recall that the cost function in logistic regression is \n",
    "\n",
    "$$J(\\theta)=\\frac{1}{m} \\sum^{m}_{i=1}[-y^{(i)}log(h_{\\theta}(x^{(i)})) - (1-y^{(i)})log (1-h_\\theta(x^{(i)}))], $$\n",
    "\n",
    "and the gradient of the cost is a vector of the same length as $\\theta$ where the $j^{th}$ element (for j = 0, 1, ..., n) is defined as follows:\n",
    "\n",
    "$$ \\frac{\\partial J(\\theta)}{\\partial \\theta_j}=\\frac{1}{m}\\sum^{m}_{i=1}(h_\\theta(x^{(i)})-y^{(i)})x^{(i)}_j$$\n",
    "\n",
    "Note that while this gradient looks identical to the linear regression gra-\n",
    "dient, the formula is actually di\u000b",
    "erent because linear and logistic regression\n",
    "have di\u000b",
    "erent de\f",
    "nitions of h\u0012(x).\n",
    "Once you are done, ex2.m will call your costFunction using the initial\n",
    "parameters of \u0012. You should see that the cost is about 0.693."
   ]
  },
  {
   "cell_type": "code",
   "execution_count": 7,
   "metadata": {
    "collapsed": true
   },
   "outputs": [],
   "source": [
    "# Take the following parameters and return the cost and gradient\n",
    "# theta = 1 X m, X = n X m, and y = 1 X n (m = no. of feature and n = no. of sample)\n",
    "# cost = R\n",
    "def cost_func(theta, X, y):\n",
    "    theta = np.matrix(theta).T\n",
    "    with np.errstate(divide='ignore'):\n",
    "        m = len(y)  \n",
    "        htheta = sigmoid(np.matmul(X, theta))\n",
    "\n",
    "        # use auxiliary cost function\n",
    "        J = - 1 / m * (np.matmul(y.T, np.log(htheta)) + np.matmul((1-y).T, np.log(1-htheta)))\n",
    "        return J\n",
    "\n",
    "# Take the following parameters and return the cost and gradient\n",
    "# theta = 1 X m, X = n X m, and y = 1 X n (m = no. of feature and n = no. of sample)\n",
    "# grad = 1 X m\n",
    "def gradient_func(theta, X, y):\n",
    "    theta = np.matrix(theta).T\n",
    "    with np.errstate(divide='ignore'):\n",
    "        m = len(y)  \n",
    "        htheta = sigmoid(np.matmul(X, theta))\n",
    "        \n",
    "        # use auxiliary gradient function\n",
    "        grad = np.matmul(X.T, (htheta - y)) / m\n",
    "        grad = grad.A1\n",
    "        return grad\n",
    "\n",
    "# Take the following parameters and return the cost and gradient\n",
    "# theta = m X 1, X = n X m, and y = n X 1 (m = no. of feature and n = no. of sample)\n",
    "# cost = const and gradient = m X 1\n",
    "def costFunction(theta, X, y):\n",
    "    with np.errstate(divide='ignore'):\n",
    "        m = len(y)  \n",
    "        htheta = sigmoid(np.matmul(X, theta))\n",
    "\n",
    "        # use auxiliary cost function\n",
    "        J = - 1 / m * (np.matmul(y.T, np.log(htheta)) + np.matmul((1-y).T, np.log(1-htheta)))\n",
    "\n",
    "        # use auxiliary gradient function\n",
    "        grad = np.matmul(X.T, (htheta - y)) / m\n",
    "    \n",
    "        return J, grad"
   ]
  },
  {
   "cell_type": "code",
   "execution_count": 8,
   "metadata": {},
   "outputs": [
    {
     "name": "stdout",
     "output_type": "stream",
     "text": [
      "Cost at initial theta (zeros): 0.693147\n",
      "\n",
      "Expected cost (approx): 0.693\n",
      "\n",
      "Gradient at initial theta (zeros): \n",
      "\n",
      "[[ -0.1       ]\n",
      " [-12.00921659]\n",
      " [-11.26284221]]\n",
      "Expected gradients (approx):\n",
      " -0.1000\n",
      " -12.0092\n",
      " -11.2628\n",
      "\n",
      "\n",
      "Cost at test theta: 0.218330\n",
      "\n",
      "Expected cost (approx): 0.218\n",
      "\n",
      "Gradient at test theta: \n",
      "\n",
      "[[ 0.04290299]\n",
      " [ 2.56623412]\n",
      " [ 2.64679737]]\n",
      "Expected gradients (approx):\n",
      " 0.043\n",
      " 2.566\n",
      " 2.647\n",
      "\n"
     ]
    }
   ],
   "source": [
    "# setup the data matrix appropriately\n",
    "m, n = X.shape\n",
    "\n",
    "# add intercept term to X\n",
    "X = np.hstack((np.ones((m, 1)), X))\n",
    "\n",
    "# initalize theta\n",
    "initial_theta = np.zeros((n+1, 1)) \n",
    "\n",
    "# compute and display initial cost and gradient\n",
    "cost, grad = costFunction(initial_theta, X, y)\n",
    "\n",
    "print('Cost at initial theta (zeros): %f\\n' % cost);\n",
    "print('Expected cost (approx): 0.693\\n');\n",
    "print('Gradient at initial theta (zeros): \\n');\n",
    "print(grad);\n",
    "print('Expected gradients (approx):\\n -0.1000\\n -12.0092\\n -11.2628\\n');\n",
    "\n",
    "# Compute and display cost and gradient with non-zero theta\n",
    "test_theta = np.matrix([-24,0.2,0.2]).T; \n",
    "[cost, grad] = costFunction(test_theta, X, y);\n",
    "\n",
    "print('\\nCost at test theta: %f\\n' % cost);\n",
    "print('Expected cost (approx): 0.218\\n');\n",
    "print('Gradient at test theta: \\n');\n",
    "print(grad);\n",
    "print('Expected gradients (approx):\\n 0.043\\n 2.566\\n 2.647\\n');"
   ]
  },
  {
   "cell_type": "markdown",
   "metadata": {},
   "source": [
    "#### 1.2.3 Learning parameters using scipy optimization.minimize\n",
    "\n",
    "In the previous assignment, you found the optimal parameters of a linear regression model by implementing gradent descent. You wrote a cost function and calculated its gradient, then took a gradient descent step accordingly. This time, instead of taking gradient descent steps, you will use a Python scipy function called Optimization.minimize.\n",
    "\n",
    "Optimization.minimize is an optimization solver that finds the minimum of an unconstrained2 function. For logistic regression, you want to optimize the cost function $J(\\theta)$ with parameters $\\theta$. \n",
    "\n",
    "Concretely, you are going to use Optimization.minimize to find the best parameters $\\theta$ for the logistic regression cost function, given a fixed dataset (of X and y values). You will pass to fminunc the following inputs:\n",
    "* The initial values of the parameters we are trying to optimize.\n",
    "* A function that, when given the training set and a particular $\\theta$, computes the logistic regression cost and gradient with respect to $\\theta$ for the dataset (X, y)\n",
    "\n",
    "We already have code written to call fminunc with the correct arguments."
   ]
  },
  {
   "cell_type": "code",
   "execution_count": 9,
   "metadata": {
    "collapsed": true
   },
   "outputs": [],
   "source": [
    "def plotDecisionBoundary(theta, X, y):\n",
    "    \n",
    "    plotData(X[:,1:], y)\n",
    "    \n",
    "    # get min and max values\n",
    "    xx = np.array([np.min(X[:,1]), np.max(X[:,1])])\n",
    "    \n",
    "    # get boundary of separation\n",
    "    yy = (- theta[0] - theta[2] * xx) / theta[1]\n",
    "    \n",
    "    plt.plot(xx, yy, lw=1.5)"
   ]
  },
  {
   "cell_type": "code",
   "execution_count": 10,
   "metadata": {},
   "outputs": [
    {
     "name": "stdout",
     "output_type": "stream",
     "text": [
      "Optimization terminated successfully.\n",
      "         Current function value: 0.203498\n",
      "         Iterations: 23\n",
      "         Function evaluations: 31\n",
      "         Gradient evaluations: 31\n",
      "Cost at theta found by fminunc: 0.203498\n",
      "\n",
      "Expected cost (approx): 0.203\n",
      "\n",
      "theta: \n",
      "\n",
      "[[-25.16133284]\n",
      " [  0.2062317 ]\n",
      " [  0.2014716 ]]\n",
      "Expected theta (approx):\n",
      "\n",
      " -25.161\n",
      " 0.206\n",
      " 0.201\n",
      "\n"
     ]
    },
    {
     "data": {
      "image/png": "[encoded data removed]",
      "text/plain": [
       "<matplotlib.figure.Figure at 0x7f8d08014ac8>"
      ]
     },
     "metadata": {},
     "output_type": "display_data"
    }
   ],
   "source": [
    "# ============= Part 3: Optimizing using fminunc  =============\n",
    "#  In this exercise, you will use a built-in function (fminunc) to find the\n",
    "#  optimal parameters theta.\n",
    "\n",
    "#  Run minimize to obtain the optimal theta\n",
    "#  This function will return theta and the cost\n",
    "t0 = np.zeros(n+1)\n",
    "res = minimize(cost_func, t0, method='BFGS', jac=gradient_func, args=(X,y), options={'disp': True, 'maxiter':400})\n",
    "\n",
    "# Print theta to screen\n",
    "print('Cost at theta found by fminunc: %f\\n' % res.fun);\n",
    "print('Expected cost (approx): 0.203\\n');\n",
    "print('theta: \\n');\n",
    "print(np.matrix(res.x).T);\n",
    "print('Expected theta (approx):\\n');\n",
    "print(' -25.161\\n 0.206\\n 0.201\\n');\n",
    "\n",
    "# Plot Boundary\n",
    "plotDecisionBoundary(res.x, X, y);"
   ]
  },
  {
   "cell_type": "markdown",
   "metadata": {},
   "source": [
    "In this code snippet, we first defined the options to be used with optimization.minimize. Specifically, we set method to BFGS, which tells minimize that we use BFGS algorithm. This allows minimize to use the gradient when minimizing the function. Furthermore, we set the maxiter option to 400, so that optimize will run for at most 400 steps before it terminates.\n",
    "\n",
    " If you have completed the costFunction correctly, optimize will converge on the right optimization parameters and return the final values of the cost and $\\theta$. Notice that by using optimize, you did not have to write any loops yourself, or set a learning rate like you did for gradient descent. This is all done by optimize: you only needed to provide a function calculating the cost and the gradient.\n",
    "\n",
    "\n",
    "Once optimize completes, optimal parameters of $\\theta$ can be found in res.x and cost can be found in res.fun.\n",
    "\n",
    "This final $\\theta$ value will then be used to plot the decision boundary on the training data, resulting in a figure similar to Figure 2. We also encourage you to look at the code in plotDecisionBoundary.m to see how to plot such a boundary using the $\\theta$ values."
   ]
  },
  {
   "cell_type": "markdown",
   "metadata": {},
   "source": [
    "#### 1.2.4 Evaluating logistic regression\n",
    "After learning the parameters, you can use the model to predict whether a particular student will be admitted. For a student with an Exam 1 score\n",
    "of 45 and an Exam 2 score of 85, you should expect to see an admission probability of 0.776.\n",
    "\n",
    "Another way to evaluate the quality of the parameters we have found is to see how well the learned model predicts on our training set. In this part, your task is to complete the code in predict.m. The predict function will produce \"1\" or \"0\" predictions given a dataset and a learned parameter vector $\\theta$.\n",
    "\n",
    "After you have completed the code in predict.m, the script will proceed to report the training accuracy of your classifier by computing the percentage of examples it got correct."
   ]
  },
  {
   "cell_type": "code",
   "execution_count": 11,
   "metadata": {
    "collapsed": true
   },
   "outputs": [],
   "source": [
    "def predict(theta, X):\n",
    "    p = sigmoid(np.matmul(X, theta)) > 0.5\n",
    "    \n",
    "    return p"
   ]
  },
  {
   "cell_type": "code",
   "execution_count": 12,
   "metadata": {},
   "outputs": [
    {
     "name": "stdout",
     "output_type": "stream",
     "text": [
      "For a student with scores 45 and 85, we predict an admission probability of 0.776291\n",
      "\n",
      "Expected value: 0.775 +/- 0.002\n",
      "\n",
      "\n",
      "Train Accuracy: 89.000000\n",
      "\n",
      "Expected accuracy (approx): 89.0\n",
      "\n",
      "\n",
      "\n"
     ]
    }
   ],
   "source": [
    "# ============== Part 4: Predict and Accuracies ==============\n",
    "#  After learning the parameters, you'll like to use it to predict the outcomes\n",
    "#  on unseen data. In this part, you will use the logistic regression model\n",
    "#  to predict the probability that a student with score 45 on exam 1 and \n",
    "#  score 85 on exam 2 will be admitted.\n",
    "#\n",
    "#  Furthermore, you will compute the training and test set accuracies of \n",
    "#  our model.\n",
    "#\n",
    "#  Your task is to complete the code in predict.m\n",
    "\n",
    "#  Predict probability for a student with score 45 on exam 1 \n",
    "#  and score 85 on exam 2 \n",
    "\n",
    "theta = np.matrix(res.x).T\n",
    "prob = sigmoid(np.matmul(np.array([1, 45, 85]), theta))\n",
    "print ('For a student with scores 45 and 85, we predict an admission probability of %f\\n' % prob);\n",
    "print('Expected value: 0.775 +/- 0.002\\n\\n');\n",
    "\n",
    "# Compute accuracy on our training set\n",
    "p = predict(theta, X);\n",
    "\n",
    "print('Train Accuracy: %f\\n'% (np.mean((p == y)) * 100));\n",
    "print('Expected accuracy (approx): 89.0\\n');\n",
    "print('\\n');"
   ]
  },
  {
   "cell_type": "markdown",
   "metadata": {},
   "source": [
    "## 2 Regularized logistic regression\n",
    "\n",
    "In this part of the exercise, you will implement regularized logistic regression to predict whether microchips from a fabrication plant passes quality assurance (QA). During QA, each microchip goes through various tests to ensure it is functioning correctly.\n",
    "\n",
    "Suppose you are the product manager of the factory and you have the test results for some microchips on two different tests. From these two tests, you would like to determine whether the microchips should be accepted or rejected. To help you make the decision, you have a dataset of test results on past microchips, from which you can build a logistic regression model."
   ]
  },
  {
   "cell_type": "markdown",
   "metadata": {},
   "source": [
    "### 2.1 Visualizing the data\n",
    "Similar to the previous parts of this exercise, plotData is used to generate a figure like Figure 3, where the axes are the two test scores, and the positive (y = 1, accepted) and negative (y = 0, rejected) examples are shown with different markers.\n",
    "\n",
    "Figure 3 shows that our dataset cannot be separated into positive and negative examples by a straight-line through the plot. Therefore, a straight-forward application of logistic regression will not perform well on this dataset since logistic regression will only be able to find a linear decision boundary."
   ]
  },
  {
   "cell_type": "code",
   "execution_count": 13,
   "metadata": {
    "collapsed": true
   },
   "outputs": [],
   "source": [
    "def plotData_2(Xcol, ycol):\n",
    "    \n",
    "    X = np.asarray(Xcol)\n",
    "    y = np.asarray(np.asarray(ycol)).flatten()\n",
    "    # get indices of 1 and 0 y values\n",
    "    pos = y == 1\n",
    "    neg = y == 0\n",
    "    \n",
    "    # plot positive (i.e., accepted) points\n",
    "    plt.plot(X[pos,0], X[pos,1], '+', color='k', ms=7,\n",
    "             mew=2, label=r'y=1')\n",
    "    \n",
    "    # plot negative (i.e., not accepted) points\n",
    "    plt.plot(X[neg,0], X[neg,1], 'o', color='y', ms=7,\n",
    "            label=r'y=0')\n",
    "\n",
    "    plt.xlabel('Microchip Test 1')\n",
    "    plt.ylabel('Microchip Test 2')\n",
    "\n",
    "    plt.legend(loc='upper right')"
   ]
  },
  {
   "cell_type": "code",
   "execution_count": 14,
   "metadata": {},
   "outputs": [
    {
     "data": {
      "image/png": "[encoded data removed]",
      "text/plain": [
       "<matplotlib.figure.Figure at 0x7f8d35e720f0>"
      ]
     },
     "metadata": {},
     "output_type": "display_data"
    }
   ],
   "source": [
    "# read in the data\n",
    "data = np.loadtxt('ex2data2.txt', delimiter=',')\n",
    "data = np.asmatrix(data)\n",
    "X, y = data[:,:2], data[:,2]\n",
    "m = len(y)\n",
    "\n",
    "plotData_2(X, y);"
   ]
  },
  {
   "cell_type": "markdown",
   "metadata": {},
   "source": [
    "### 2.2 Feature mapping\n",
    "One way to fit the data better is to create more features from each data point. In the provided function mapFeature.m, we will map the features into all polynomial terms of $x_1$ and $x_2$ up to the sixth power.\n",
    "\n",
    "$$ y = \\begin{bmatrix}\n",
    "           1 \\\\\n",
    "           x_{1} \\\\\n",
    "           x_{2} \\\\\n",
    "           x_{1}^2 \\\\\n",
    "           x_1x_2 \\\\\n",
    "           x_2^2 \\\\\n",
    "           x_1^3 \\\\\n",
    "           \\vdots \\\\\n",
    "           x_1x_2^5 \\\\\n",
    "           x_2^6\n",
    "         \\end{bmatrix}$$\n",
    "         \n",
    "         \n",
    "As a result of this mapping, our vector of two features (the scores on two QA tests) has been transformed into a 28-dimensional vector. A logistic regression classifier trained on this higher-dimension feature vector will have a more complex decision boundary and will appear nonlinear when drawn in our 2-dimensional plot.\n",
    "\n",
    "While the feature mapping allows us to build a more expressive classifier, it also more susceptible to over\f",
    "tting. In the next parts of the exercise, you will implement regularized logistic regression to fit the data and also see for yourself how regularization can help combat the overfitting problem."
   ]
  },
  {
   "cell_type": "code",
   "execution_count": 15,
   "metadata": {
    "collapsed": true
   },
   "outputs": [],
   "source": [
    "def mapFeature(X1, X2):\n",
    "# MAPFEATURE Feature mapping function to polynomial features\n",
    "#\n",
    "#   MAPFEATURE(X1, X2) maps the two input features\n",
    "#   to quadratic features used in the regularization exercise.\n",
    "#\n",
    "#   Returns a new feature array with more features, comprising of \n",
    "#   X1, X2, X1.^2, X2.^2, X1*X2, X1*X2.^2, etc..\n",
    "#\n",
    "#   Inputs X1, X2 must be the same size\n",
    "#\n",
    "    degrees = 6\n",
    "    m = len(np.atleast_1d(X1))\n",
    "    X = np.ones((m, 1))\n",
    "    for ii in range(1, degrees+1):\n",
    "        for jj in range(0,ii+1):\n",
    "            X = np.hstack((X, (np.multiply(np.power(X1,ii-jj) ,np.power(X2, jj))).reshape(m,1)))\n",
    "    \n",
    "    return X"
   ]
  },
  {
   "cell_type": "markdown",
   "metadata": {},
   "source": [
    "### 2.3 Cost function and gradient\n",
    "Now you will implement code to compute the cost function and gradient for regularized logistic regression. Complete the code in costFunctionReg to return the cost and gradient. Recall that the regularized cost function in logistic regression is\n",
    "\n",
    "$$ J(\\theta)=\\frac{1}{m}\\sum^{m}_{i=1}[-y^{(i)}log(h_\\theta(x^{(i)})) - (1-y^{(i)})log(1-h_\\theta(x^{(i)}))] + \\frac{\\lambda}{2m}\\sum^{n}_{j=1}\\theta^2_j $$\n",
    "\n",
    "Note that you should not regularize the parameter $\\theta_0$. The gradient of the cost function is a vector where the $j^{th}$ element is defined as follows:\n",
    "\n",
    "$$ \n",
    "\\begin{align}\n",
    "\\frac{\\partial J(\\theta)}{\\partial \\theta_j}=\\frac{1}{m}\\sum\\limits^{m}_{i=1}(h_\\theta(x^{(i)})-y^{(i)})x^{(i)}_j & & \\mbox{ for $j=0$} \\\\\n",
    "\\frac{\\partial J(\\theta)}{\\partial \\theta_j}=(\\frac{1}{m}\\sum\\limits^{m}_{i=1}(h_\\theta(x^{(i)})-y^{(i)})x^{(i)}_j) + \\frac{\\lambda}{m}\\theta_j & & \\mbox{ for $j>=1$}\n",
    "\\end{align}\n",
    "$$ \n",
    "\n",
    "Once you are done, ex2 reg.m will call your costFunctionReg function using the initial value of $\\theta$ (initialized to all zeros). You should see that the cost is about 0.693.\n"
   ]
  },
  {
   "cell_type": "code",
   "execution_count": 16,
   "metadata": {
    "collapsed": true
   },
   "outputs": [],
   "source": [
    "# Take the following parameters and return the cost and gradient\n",
    "# theta = 1 X m, X = n X m, and y = 1 X n (m = no. of feature and n = no. of sample)\n",
    "# cost = R\n",
    "def cost_func_reg(theta, X, y, l):\n",
    "    theta = np.asarray(np.matrix(theta).T)\n",
    "    mask_array = np.ones((len(theta), 1))\n",
    "    mask_array[0,0] = 0.0\n",
    "    \n",
    "    with np.errstate(divide='ignore'):\n",
    "        m = len(y)  \n",
    "        htheta = sigmoid(np.matmul(X, theta))\n",
    "        # use auxiliary gradient function\n",
    "        # use auxiliary cost function\n",
    "        J = - 1 / m * (np.matmul(y.T, np.log(htheta)) + np.matmul((1-y).T, np.log(1-htheta))) \\\n",
    "                + l/2/m*np.sum(np.multiply(mask_array, theta)**2)\n",
    "        return J\n",
    "\n",
    "# Take the following parameters and return the cost and gradient\n",
    "# theta = 1 X m, X = n X m, and y = 1 X n (m = no. of feature and n = no. of sample)\n",
    "# grad = 1 X m\n",
    "def gradient_func_reg(theta, X, y, l):\n",
    "    theta = np.asarray(np.matrix(theta).T)\n",
    "    mask_array = np.ones((len(theta), 1))\n",
    "    mask_array[0, 0] = 0.0\n",
    "    \n",
    "    with np.errstate(divide='ignore'):\n",
    "        m = len(y)  \n",
    "        htheta = sigmoid(np.matmul(X, theta))\n",
    "        \n",
    "        grad = np.matmul(X.T, (htheta - y)) / m + np.multiply(mask_array, theta) * l / m\n",
    "        grad = grad.A1\n",
    "        return grad\n",
    "\n",
    "# Take the following parameters and return the cost and gradient\n",
    "# theta = m X 1, X = n X m, and y = n X 1 (m = no. of feature and n = no. of sample)\n",
    "# cost = const and gradient = m X 1\n",
    "def costFunctionReg(theta, X, y, l):\n",
    "    mask_array = np.ones((len(theta), 1))\n",
    "    mask_array[0,0] = 0.0\n",
    "    with np.errstate(divide='ignore'):\n",
    "        m = len(y)  \n",
    "        htheta = sigmoid(np.matmul(X, theta))\n",
    "        # use auxiliary cost function\n",
    "        J = - 1 / m * (np.matmul(y.T, np.log(htheta)) + np.matmul((1-y).T, np.log(1-htheta))) \\\n",
    "                + l/2/m*np.sum(np.multiply(mask_array, theta)**2)\n",
    "\n",
    "        # use auxiliary gradient function\n",
    "        grad = np.matmul(X.T, (htheta - y)) / m + np.multiply(mask_array, theta) * l / m\n",
    "    \n",
    "        return J, grad"
   ]
  },
  {
   "cell_type": "code",
   "execution_count": 17,
   "metadata": {},
   "outputs": [
    {
     "name": "stdout",
     "output_type": "stream",
     "text": [
      "Cost at initial theta (zeros): 0.693147\n",
      "\n",
      "Expected cost (approx): 0.693\n",
      "\n",
      "Gradient at initial theta (zeros) - first five values only:\n",
      "\n",
      "[[  8.47457627e-03]\n",
      " [  1.87880932e-02]\n",
      " [  7.77711864e-05]\n",
      " [  5.03446395e-02]\n",
      " [  1.15013308e-02]]\n",
      "Expected gradients (approx) - first five values only:\n",
      "\n",
      " 0.0085\n",
      " 0.0188\n",
      " 0.0001\n",
      " 0.0503\n",
      " 0.0115\n",
      "\n",
      "\n",
      "Cost at test theta (with lambda = 10): 3.164509\n",
      "\n",
      "Expected cost (approx): 3.16\n",
      "\n",
      "Gradient at test theta - first five values only:\n",
      "\n",
      "[[ 0.34604507]\n",
      " [ 0.16135192]\n",
      " [ 0.19479576]\n",
      " [ 0.22686278]\n",
      " [ 0.09218568]]\n",
      "Expected gradients (approx) - first five values only:\n",
      "\n",
      " 0.3460\n",
      " 0.1614\n",
      " 0.1948\n",
      " 0.2269\n",
      " 0.0922\n",
      "\n"
     ]
    }
   ],
   "source": [
    "# =========== Part 1: Regularized Logistic Regression ============\n",
    "#  In this part, you are given a dataset with data points that are not\n",
    "#  linearly separable. However, you would still like to use logistic\n",
    "#  regression to classify the data points.\n",
    "#\n",
    "#  To do so, you introduce more features to use -- in particular, you add\n",
    "#  polynomial features to our data matrix (similar to polynomial\n",
    "#  regression).\n",
    "#\n",
    "\n",
    "# Add Polynomial Features\n",
    "\n",
    "# Note that mapFeature also adds a column of ones for us, so the intercept\n",
    "# term is handled\n",
    "X = mapFeature(X[:,0], X[:,1]);\n",
    "m, n = X.shape\n",
    "\n",
    "# Initialize fitting parameters\n",
    "initial_theta = np.zeros((n, 1));\n",
    "\n",
    "# Set regularization parameter lambda to 1\n",
    "l = 1;\n",
    "\n",
    "# Compute and display initial cost and gradient for regularized logistic\n",
    "# regression\n",
    "cost, grad = costFunctionReg(initial_theta, X, y, l);\n",
    "\n",
    "print('Cost at initial theta (zeros): %f\\n' % cost);\n",
    "print('Expected cost (approx): 0.693\\n');\n",
    "print('Gradient at initial theta (zeros) - first five values only:\\n');\n",
    "print(grad[0:5]);\n",
    "print('Expected gradients (approx) - first five values only:\\n');\n",
    "print(' 0.0085\\n 0.0188\\n 0.0001\\n 0.0503\\n 0.0115\\n');\n",
    "\n",
    "# Compute and display cost and gradient\n",
    "# with all-ones theta and lambda = 10\n",
    "test_theta = np.ones((n,1));\n",
    "cost, grad = costFunctionReg(test_theta, X, y, 10);\n",
    "\n",
    "print('\\nCost at test theta (with lambda = 10): %f\\n' % cost);\n",
    "print('Expected cost (approx): 3.16\\n');\n",
    "print('Gradient at test theta - first five values only:\\n');\n",
    "print(grad[0:5]);\n",
    "print('Expected gradients (approx) - first five values only:\\n');\n",
    "print(' 0.3460\\n 0.1614\\n 0.1948\\n 0.2269\\n 0.0922\\n');\n"
   ]
  },
  {
   "cell_type": "markdown",
   "metadata": {},
   "source": [
    "#### 2.3.1 Learning parameters using fminunc\n",
    "Similar to the previous parts, you will use optimize to learn the optimal parameters $\\theta$. If you have completed the cost and gradient for regularized logistic regression costFunctionReg correctly, you should be able to step through the next part to learn the parameters $\\theta$ using optimize."
   ]
  },
  {
   "cell_type": "code",
   "execution_count": 18,
   "metadata": {},
   "outputs": [
    {
     "name": "stdout",
     "output_type": "stream",
     "text": [
      "Optimization terminated successfully.\n",
      "         Current function value: 0.529003\n",
      "         Iterations: 47\n",
      "         Function evaluations: 48\n",
      "         Gradient evaluations: 48\n"
     ]
    }
   ],
   "source": [
    "# ============= Part 2: Regularization and Accuracies =============\n",
    "#  Optional Exercise:\n",
    "#  In this part, you will get to try different values of lambda and\n",
    "#  see how regularization affects the decision coundart\n",
    "#\n",
    "#  Try the following values of lambda (0, 1, 10, 100).\n",
    "#\n",
    "#  How does the decision boundary change when you vary lambda? How does\n",
    "#  the training set accuracy vary?\n",
    "#\n",
    "\n",
    "# Initialize fitting parameters\n",
    "m, n = X.shape\n",
    "initial_theta_reg = np.zeros((n, 1));\n",
    "\n",
    "# Set regularization parameter lambda to 1 (you should vary this)\n",
    "l = 1;\n",
    "\n",
    "# Optimize\n",
    "res = minimize(cost_func_reg, initial_theta_reg, method='BFGS', jac=gradient_func_reg, args=(X,y, l), options={'disp': True, 'maxiter':400})"
   ]
  },
  {
   "cell_type": "markdown",
   "metadata": {},
   "source": [
    "### 2.4 Plotting the decision boundary\n",
    "To help you visualize the model learned by this classifier, we have provided the function plotDecisionBoundary2 which plots the (non-linear) decision boundary that separates the positive and negative examples. In plotDecisionBoundary2, we plot the non-linear decision boundary by computing the classifier's predictions on an evenly spaced grid and then and drew a contour plot of where the predictions change from y = 0 to y = 1. \n",
    "\n",
    "After learning the parameters $\\theta$, the next step in ex reg.m will plot a decision boundary similar to Figure 4."
   ]
  },
  {
   "cell_type": "code",
   "execution_count": 19,
   "metadata": {
    "collapsed": true
   },
   "outputs": [],
   "source": [
    "def plotDecisionBoundary2(theta, X, y, l):\n",
    "    # plot the data\n",
    "    plotData_2(X[:,1:3], y)\n",
    "\n",
    "    u = np.linspace(-1, 1.5, 50)\n",
    "    v = np.linspace(-1, 1.5, 50)\n",
    "\n",
    "    z = np.zeros((len(u), len(v)))\n",
    "    for ii in range(len(u)):\n",
    "        for jj in range(len(v)):\n",
    "            z[ii,jj] = np.dot(mapFeature(u[ii], v[jj]), theta)\n",
    "\n",
    "    plt.contour(u, v, z.T, [0,0], labels='Decision Boundary', colors='b', corner_mask='legacy')\n",
    "    plt.title('lambda = %g' % l)"
   ]
  },
  {
   "cell_type": "code",
   "execution_count": 20,
   "metadata": {},
   "outputs": [
    {
     "name": "stdout",
     "output_type": "stream",
     "text": [
      "Train Accuracy: 83.050847\n",
      "\n",
      "Expected accuracy (with lambda = 1): 83.1 (approx)\n",
      "\n"
     ]
    },
    {
     "name": "stderr",
     "output_type": "stream",
     "text": [
      "/home/administrator/environments/python3/lib/python3.5/site-packages/matplotlib/contour.py:1184: UserWarning: Contour levels are not increasing\n",
      "  warnings.warn(\"Contour levels are not increasing\")\n",
      "/home/administrator/environments/python3/lib/python3.5/site-packages/matplotlib/cbook.py:136: MatplotlibDeprecationWarning: The corner_mask='legacy' attribute was deprecated in version 1.5. Use corner_mask=False or True instead.\n",
      "  warnings.warn(message, mplDeprecation, stacklevel=1)\n"
     ]
    },
    {
     "data": {
      "image/png": "[encoded data removed]",
      "text/plain": [
       "<matplotlib.figure.Figure at 0x7f8d07ec48d0>"
      ]
     },
     "metadata": {},
     "output_type": "display_data"
    }
   ],
   "source": [
    "# Plot Boundary\n",
    "plotDecisionBoundary2(res.x, X, y, l);\n",
    "\n",
    "# Compute accuracy on our training set\n",
    "p = predict(np.matrix(res.x).T, X);\n",
    "\n",
    "print('Train Accuracy: %f\\n' % (np.mean((p == y)) * 100));\n",
    "print('Expected accuracy (with lambda = 1): 83.1 (approx)\\n');\n"
   ]
  },
  {
   "cell_type": "markdown",
   "metadata": {},
   "source": [
    "### 2.5 Optional (ungraded) exercises\n",
    "\n",
    "In this part of the exercise, you will get to try out different regularization parameters for the dataset to understand how regularization prevents overfitting. Notice the changes in the decision boundary as you vary $\\lambda$. With a small $\\lambda$, you should find that the classifier gets almost every training example correct, but draws a very complicated boundary, thus overfitting the data (Figure 5). This is not a good decision boundary: for example, it predicts\n",
    "that a point at x = (-0.25, 1.5) is accepted (y = 1), which seems to be an incorrect decision given the training set.\n",
    "\n",
    "\n",
    "With a larger $\\lambda$, you should see a plot that shows an simpler decision boundary which still separates the positives and negatives fairly well. However, if $\\lambda$ is set to too high a value, you will not get a good fit and the decision boundary will not follow the data so well, thus underfitting the data (Figure 6)."
   ]
  },
  {
   "cell_type": "code",
   "execution_count": 21,
   "metadata": {},
   "outputs": [
    {
     "name": "stderr",
     "output_type": "stream",
     "text": [
      "/home/administrator/environments/python3/lib/python3.5/site-packages/matplotlib/contour.py:1184: UserWarning: Contour levels are not increasing\n",
      "  warnings.warn(\"Contour levels are not increasing\")\n",
      "/home/administrator/environments/python3/lib/python3.5/site-packages/matplotlib/cbook.py:136: MatplotlibDeprecationWarning: The corner_mask='legacy' attribute was deprecated in version 1.5. Use corner_mask=False or True instead.\n",
      "  warnings.warn(message, mplDeprecation, stacklevel=1)\n"
     ]
    },
    {
     "data": {
      "image/png": "[encoded data removed]",
      "text/plain": [
       "<matplotlib.figure.Figure at 0x7f8d07f57c18>"
      ]
     },
     "metadata": {},
     "output_type": "display_data"
    }
   ],
   "source": [
    "fig = plt.figure(figsize=(10,10))\n",
    "\n",
    "lams = [0, 0.01, 1, 100]\n",
    "for ct, lam in enumerate(lams):\n",
    "    res = minimize(cost_func_reg, initial_theta_reg, method='BFGS', \\\n",
    "                   jac=gradient_func_reg, args=(X,y, lam), options={'disp': False, 'maxiter':400})\n",
    "    \n",
    "    theta_new_reg = np.matrix(res.x).T\n",
    "    p = predict(theta_new_reg, X)\n",
    "    plt.subplot(2,2,ct+1)\n",
    "    \n",
    "    plotDecisionBoundary2(theta_new_reg, X, y, lam)\n",
    "    plt.title('lambda = %g, train accuracy = %3.3f' %(lam, np.mean(p==y)*100))"
   ]
  },
  {
   "cell_type": "code",
   "execution_count": null,
   "metadata": {
    "collapsed": true
   },
   "outputs": [],
   "source": []
  }
 ],
 "metadata": {
  "kernelspec": {
   "display_name": "Python 3",
   "language": "python",
   "name": "python3"
  },
  "language_info": {
   "codemirror_mode": {
    "name": "ipython",
    "version": 3
   },
   "file_extension": ".py",
   "mimetype": "text/x-python",
   "name": "python",
   "nbconvert_exporter": "python",
   "pygments_lexer": "ipython3",
   "version": "3.5.2"
  }
 },
 "nbformat": 4,
 "nbformat_minor": 2
}
