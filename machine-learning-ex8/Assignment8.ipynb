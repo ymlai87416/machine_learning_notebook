{
 "cells": [
  {
   "cell_type": "markdown",
   "metadata": {},
   "source": [
    "# Programming Exercise 8: Anomaly Detection and Recommender Systems"
   ]
  },
  {
   "cell_type": "markdown",
   "metadata": {},
   "source": [
    "# Introduction\n",
    "In this exercise, you will implement the anomaly detection algorithm and apply it to detect failing servers on a network. In the second part, you will use collaborative filtering to build a recommender system for movies. Before starting on the programming exercise, we strongly recommend watching the video lectures and completing the review questions for the associated topics. "
   ]
  },
  {
   "cell_type": "code",
   "execution_count": 1,
   "metadata": {
    "collapsed": true
   },
   "outputs": [],
   "source": [
    "from __future__ import division\n",
    "import numpy as np\n",
    "import matplotlib.pyplot as plt\n",
    "from mpl_toolkits.mplot3d import Axes3D\n",
    "import scipy.io\n",
    "import math\n",
    "from scipy.optimize import fmin_cg, minimize\n",
    "\n",
    "%matplotlib inline\n",
    "\n",
    "import warnings\n",
    "warnings.filterwarnings('ignore')"
   ]
  },
  {
   "cell_type": "markdown",
   "metadata": {},
   "source": [
    "# 1 Anomaly detection\n",
    "\n",
    "In this exercise, you will implement an anomaly detection algorithm to detect anomalous behavior in server computers. The features measure the throughput (mb/s) and latency (ms) of response of each server. While your servers were operating, you collected m = 307 examples of how they were behaving, and thus have an unlabeled dataset $\\{x^{(1)}, \\cdots, x^{(m)}\\}$. You suspect that the vast majority of these examples are \"normal\" (non-anomalous) examples of the servers operating normally, but there might also be some examples of servers acting anomalously within this dataset. \n",
    "\n",
    "\n",
    "You will use a Gaussian model to detect anomalous examples in your dataset. You will first start on a 2D dataset that will allow you to visualize what the algorithm is doing. On that dataset you will fit a Gaussian distribution and then find values that have very low probability and hence can be considered anomalies. After that, you will apply the anomaly detection algorithm to a larger dataset with many dimensions. You will be using the script for this part of the exercise.\n",
    "\n",
    "The first part of the script will visualize the dataset as shown in Figure 1"
   ]
  },
  {
   "cell_type": "code",
   "execution_count": 2,
   "metadata": {},
   "outputs": [
    {
     "name": "stdout",
     "output_type": "stream",
     "text": [
      "Visualizing example dataset for outlier detection.\n",
      "\n",
      "\n"
     ]
    },
    {
     "data": {
      "text/plain": [
       "<matplotlib.text.Text at 0x7fde54779ef0>"
      ]
     },
     "execution_count": 2,
     "metadata": {},
     "output_type": "execute_result"
    },
    {
     "data": {
      "image/png": "[encoded data removed]",
      "text/plain": [
       "<matplotlib.figure.Figure at 0x7fde547d5ac8>"
      ]
     },
     "metadata": {},
     "output_type": "display_data"
    }
   ],
   "source": [
    "# ================== Part 1: Load Example Dataset  ===================\n",
    "#  We start this exercise by using a small dataset that is easy to\n",
    "#  visualize.\n",
    "#\n",
    "#  Our example case consists of 2 network server statistics across\n",
    "#  several machines: the latency and throughput of each machine.\n",
    "#  This exercise will help us find possibly faulty (or very fast) machines.\n",
    "#\n",
    "\n",
    "print('Visualizing example dataset for outlier detection.\\n\\n')\n",
    "\n",
    "#  The following command loads the dataset. You should now have the\n",
    "#  variables X, Xval, yval in your environment\n",
    "mat = scipy.io.loadmat('ex8data1.mat')\n",
    "X = mat['X']\n",
    "Xval = mat['Xval']\n",
    "yval = mat['yval']\n",
    "\n",
    "#  Visualize the example dataset\n",
    "plt.plot(X[:, 0], X[:, 1], 'bx')\n",
    "plt.axis([0, 30, 0, 30])\n",
    "plt.xlabel('Latency (ms)')\n",
    "plt.ylabel('Throughput (mb/s)')"
   ]
  },
  {
   "cell_type": "markdown",
   "metadata": {},
   "source": [
    "## 1.1 Gaussian distribution\n",
    "To perform anomaly detection, you will first need to fit a model to the data's distribution.\n",
    "\n",
    "Given a training set $\\{x^{(1)}, \\cdots, x^{(m)}\\}$ (where $x^{(i)} \\in \\Bbb{R}^n$), you want to estimate the Gaussian distribution for each of the features $x_i$. For each feature i = 1 ... n, you need to find parameters $\\mu_i$ and $\\sigma_i^2$ that fit the data in the i-th dimension $\\{x^{(1)}_i, \\cdots, x^{(m)}_i \\}$ (the i-th dimension of each example).\n",
    "\n",
    "The Gaussian distribution is given by\n",
    "\n",
    "$$p(x;\\mu, \\sigma^2) = \\frac{1}{\\sqrt{2\\pi\\sigma^2}}e^{-\\frac{(x-\\mu)^2}{2\\sigma^2}}$$\n",
    "\n",
    "where $\\mu$ is the mean and $\\sigma^2$ controls the variance."
   ]
  },
  {
   "cell_type": "markdown",
   "metadata": {},
   "source": [
    "# 1.2 Estimating parameters for a Gaussian\n",
    "\n",
    "You can estimate the parameters, $(\\mu_i, \\sigma^2_i )$, of the i-th feature by using the\n",
    "following equations. To estimate the mean, you will use:\n",
    "$$\n",
    "\\mu_i = \\frac{1}{m}\\sum^{m}_{j=1}x^{(j)}_i,\n",
    "$$\n",
    "and for the variance you will use:\n",
    "$$\n",
    "\\sigma^2_i = \\frac{1}{m}\\sum^{m}_{j=1}(x_i^{(j)}-\\mu_i)^2\n",
    "$$\n",
    "\n",
    "Your task is to complete the code in estimateGaussian.m. This function takes as input the data matrix X and should output an n-dimension vector mu that holds the mean of all the n features and another n-dimension vector sigma2 that holds the variances of all the features. You can implement this using a for-loop over every feature and every training example (though a vectorized implementation might be more effcient; feel free to use a vectorized implementation if you prefer). Note that in Python, the var function will (by default) use $\\frac{1}{m}$, instead of  $\\frac{1}{m-1}$, when computing $\\sigma^2_i$.\n",
    "\n",
    "Once you have completed the code in estimateGaussian.m, the next part of the script will visualize the contours of the fitted Gaussian distribution. You should get a plot similar to Figure 2. From your plot, you can see that most of the examples are in the region with the highest probability, while the anomalous examples are in the regions with lower probabilities."
   ]
  },
  {
   "cell_type": "code",
   "execution_count": 3,
   "metadata": {
    "collapsed": true
   },
   "outputs": [],
   "source": [
    "def estimateGaussian(X):\n",
    "#ESTIMATEGAUSSIAN This function estimates the parameters of a \n",
    "#Gaussian distribution using the data in X\n",
    "#   [mu sigma2] = estimateGaussian(X), \n",
    "#   The input X is the dataset with each n-dimensional data point in one row\n",
    "#   The output is an n-dimensional vector mu, the mean of the data set\n",
    "#   and the variances sigma^2, an n x 1 vector\n",
    "# \n",
    "    # Useful variables\n",
    "    m, n = X.shape\n",
    "\n",
    "    # You should return these values correctly\n",
    "    mu = np.zeros((n, 1))\n",
    "    sigma2 = np.zeros((n, 1))\n",
    "\n",
    "    mu = np.mean(X, axis=0)\n",
    "    sigma2 = np.var(X, axis=0)\n",
    "\n",
    "    return mu, sigma2"
   ]
  },
  {
   "cell_type": "code",
   "execution_count": 4,
   "metadata": {},
   "outputs": [],
   "source": [
    "def visualizeFit(X, mu, sigma2):\n",
    "#VISUALIZEFIT Visualize the dataset and its estimated distribution.\n",
    "#   VISUALIZEFIT(X, p, mu, sigma2) This visualization shows you the \n",
    "#   probability density function of the Gaussian distribution. Each example\n",
    "#   has a location (x1, x2) that depends on its feature values.\n",
    "#\n",
    "    x = np.linspace(0, 35, num=71, endpoint=True)\n",
    "    X1, X2 = np.meshgrid(x, x)\n",
    "    Z = multivariateGaussian(np.hstack((X1.reshape(-1, 1), X2.reshape(-1, 1))), mu, sigma2)\n",
    "    Z = np.reshape(Z, X1.shape)\n",
    "\n",
    "    plt.plot(X[:, 0], X[:, 1], 'bx')\n",
    "    # Do not plot if there are infinities\n",
    "    if (np.sum(np.isinf(Z)) == 0):\n",
    "        CS = plt.contour(X1, X2, Z, 10.0**np.arange(-20, 0, 3))\n",
    "        #plt.clabel(CS, inline=1, fontsize=10)"
   ]
  },
  {
   "cell_type": "code",
   "execution_count": 5,
   "metadata": {
    "collapsed": true
   },
   "outputs": [],
   "source": [
    "def multivariateGaussian(X, mu, Sigma2):\n",
    "#MULTIVARIATEGAUSSIAN Computes the probability density function of the\n",
    "#multivariate gaussian distribution.\n",
    "#    p = MULTIVARIATEGAUSSIAN(X, mu, Sigma2) Computes the probability \n",
    "#    density function of the examples X under the multivariate gaussian \n",
    "#    distribution with parameters mu and Sigma2. If Sigma2 is a matrix, it is\n",
    "#    treated as the covariance matrix. If Sigma2 is a vector, it is treated\n",
    "#    as the \\sigma^2 values of the variances in each dimension (a diagonal\n",
    "#    covariance matrix)\n",
    "#\n",
    "\n",
    "    k = mu.shape[0]\n",
    "\n",
    "    Sigma2 = np.matrix(Sigma2)\n",
    "    \n",
    "    if (Sigma2.shape[1] == 1 or Sigma2.shape[0] == 1):\n",
    "        Sigma2 = np.diag(Sigma2.A1)\n",
    "\n",
    "    X = X - mu\n",
    "          \n",
    "    p = (2 * math.pi) ** (- k / 2) * np.linalg.det(Sigma2) ** (-0.5) * \\\n",
    "            np.exp(-0.5 * np.sum(np.matmul(X, np.linalg.pinv(Sigma2)) * X, axis=1))\n",
    "        \n",
    "    return p"
   ]
  },
  {
   "cell_type": "code",
   "execution_count": 6,
   "metadata": {},
   "outputs": [],
   "source": [
    "def selectThreshold(yval, pval):\n",
    "#SELECTTHRESHOLD Find the best threshold (epsilon) to use for selecting\n",
    "#outliers\n",
    "#   [bestEpsilon bestF1] = SELECTTHRESHOLD(yval, pval) finds the best\n",
    "#   threshold to use for selecting outliers based on the results from a\n",
    "#   validation set (pval) and the ground truth (yval).\n",
    "#\n",
    "\n",
    "    bestEpsilon = 0\n",
    "    bestF1 = 0\n",
    "    F1 = 0\n",
    "\n",
    "    stepsize = (np.max(pval) - np.min(pval)) / 1000\n",
    "    yval = yval.flatten()\n",
    "    \n",
    "    for epsilon in np.arange(np.min(pval), np.max(pval), stepsize):\n",
    "        predictions = (pval < epsilon)\n",
    "        tp = np.sum(np.logical_and(predictions, yval))\n",
    "        fp = np.sum(np.logical_and(predictions, np.logical_not(yval)))\n",
    "        fn = np.sum(np.logical_and(np.logical_not(predictions), yval))\n",
    "\n",
    "        prec = tp/(tp+fp)\n",
    "        rec = tp/(tp+fn)\n",
    "\n",
    "        F1 = 2*prec*rec/(prec+rec)\n",
    "\n",
    "        if F1 > bestF1:\n",
    "            bestF1 = F1\n",
    "            bestEpsilon = epsilon\n",
    "\n",
    "    return bestEpsilon, bestF1"
   ]
  },
  {
   "cell_type": "code",
   "execution_count": 7,
   "metadata": {},
   "outputs": [
    {
     "name": "stdout",
     "output_type": "stream",
     "text": [
      "Visualizing Gaussian fit.\n",
      "\n",
      "\n"
     ]
    },
    {
     "data": {
      "text/plain": [
       "<matplotlib.text.Text at 0x7fde54780da0>"
      ]
     },
     "execution_count": 7,
     "metadata": {},
     "output_type": "execute_result"
    },
    {
     "data": {
      "image/png": "[encoded data removed]",
      "text/plain": [
       "<matplotlib.figure.Figure at 0x7fde248ccac8>"
      ]
     },
     "metadata": {},
     "output_type": "display_data"
    }
   ],
   "source": [
    "# ================== Part 2: Estimate the dataset statistics ===================\n",
    "#  For this exercise, we assume a Gaussian distribution for the dataset.\n",
    "#\n",
    "#  We first estimate the parameters of our assumed Gaussian distribution, \n",
    "#  then compute the probabilities for each of the points and then visualize \n",
    "#  both the overall distribution and where each of the points falls in \n",
    "#  terms of that distribution.\n",
    "#\n",
    "print('Visualizing Gaussian fit.\\n\\n')\n",
    "\n",
    "#  Estimate my and sigma2\n",
    "mu, sigma2 = estimateGaussian(X)\n",
    "\n",
    "#  Returns the density of the multivariate normal at each data point (row) \n",
    "#  of X\n",
    "p = multivariateGaussian(X, mu, sigma2)\n",
    "\n",
    "#  Visualize the fit\n",
    "visualizeFit(X,  mu, sigma2)\n",
    "plt.xlabel('Latency (ms)')\n",
    "plt.ylabel('Throughput (mb/s)')\n"
   ]
  },
  {
   "cell_type": "markdown",
   "metadata": {},
   "source": [
    "### 1.3 Selecting the threshold, $\\epsilon$\n",
    "\n",
    "Now that you have estimated the Gaussian parameters, you can investigate which examples have a very high probability given this distribution and which examples have a very low probability. The low probability examples are more likely to be the anomalies in our dataset. One way to determine which examples are anomalies is to select a threshold based on a cross validation set. In this part of the exercise, you will implement an algorithm to select the threshold $\\epsilon$ using the $F_1$ score on a cross validation set.\n",
    "\n",
    "You should now complete the code in selectThreshold.m. For this, we will use a cross validation set $ \\{(x^{(1)}_{cv}, y^{(1)}_{cv}), \\cdots, (x^{(m_{cv})}_{cv}, y^{(m_{cv})}_{cv})\\}$, where the label y = 1 corresponds to an anomalous example, and y = 0 corresponds to a normal example. For each cross validation example, we will compute $p(x^{(i)}_{cv}), \\cdots, p(x^{(m_{cv})}_{cv})$ is passed to selectThreshold in the vector pval. The corresponding labels $y^{(1)}_{cv}, \\cdots, y^{(m_{cv})}_{cv}$ is passed to the same function in the vector yval.\n",
    "\n",
    "The function selectThreshold should return two values; the first is the selected threshold $\\epsilon$. If an example x has a low probability $p(x) < \\epsilon$, then it is considered to be an anomaly. The function should also return the $F_1$ score, which tells you how well you're doing on finding the ground truth anomalies given a certain threshold. For many different values of $\\epsilon$, you will compute the resulting $F_1$ score by computing how many examples the current threshold classifies correctly and incorrectly. \n",
    "\n",
    "The $F_1$ score is computed using precision (prec) and recall (rec):\n",
    "$$\n",
    "F_1 = \\frac{2\\cdot prec \\cdot rec}{prec+rec},\n",
    "$$\n",
    "You compute precision and recall by:\n",
    "$$\n",
    "prec = \\frac{tp}{tp+fp} \\\\\n",
    "rec = \\frac{tp}{tp+fn}\n",
    "$$\n",
    "\n",
    "where\n",
    "* tp is the number of true positives: the ground truth label says it's an anomaly and our algorithm correctly classified it as an anomaly.\n",
    "* fp is the number of false positives: the ground truth label says it's not an anomaly, but our algorithm incorrectly classified it as an anomaly.\n",
    "* fn is the number of false negatives: the ground truth label says it's an anomaly, but our algorithm incorrectly classified it as not being anomalous.\n",
    "\n",
    "In the provided code selectThreshold, there is already a loop that will try many different values of $\\epsilon$ and select the best $\\epsilon$ based on the $F_1$ score. \n",
    "\n",
    "You should now complete the code in selectThreshold. You can implement the computation of the $F_1$ score using a for-loop over all the cross validation examples (to compute the values tp, fp, fn). You should see a value for epsilon of about 8.99e-05.\n",
    "\n",
    "Once you have completed the code in selectThreshold, the next step in the script will run your anomaly detection code and circle the anomalies in the plot (Figure 3)."
   ]
  },
  {
   "cell_type": "code",
   "execution_count": 8,
   "metadata": {},
   "outputs": [
    {
     "name": "stdout",
     "output_type": "stream",
     "text": [
      "Best epsilon found using cross-validation: 8.990853e-05\n",
      "\n",
      "Best F1 on Cross Validation Set:  0.875000\n",
      "\n",
      "   (you should see a value epsilon of about 8.99e-05)\n",
      "\n",
      "   (you should see a Best F1 value of  0.875000)\n",
      "\n",
      "\n"
     ]
    },
    {
     "data": {
      "text/plain": [
       "[<matplotlib.lines.Line2D at 0x7fde24806518>]"
      ]
     },
     "execution_count": 8,
     "metadata": {},
     "output_type": "execute_result"
    },
    {
     "data": {
      "image/png": "[encoded data removed]",
      "text/plain": [
       "<matplotlib.figure.Figure at 0x7fde248060b8>"
      ]
     },
     "metadata": {},
     "output_type": "display_data"
    }
   ],
   "source": [
    "# ================== Part 3: Find Outliers ===================\n",
    "#  Now you will find a good epsilon threshold using a cross-validation set\n",
    "#  probabilities given the estimated Gaussian distribution\n",
    "# \n",
    "\n",
    "pval = multivariateGaussian(Xval, mu, sigma2)\n",
    "\n",
    "epsilon, F1 = selectThreshold(yval, pval)\n",
    "print('Best epsilon found using cross-validation: %e\\n' % epsilon)\n",
    "print('Best F1 on Cross Validation Set:  %f\\n' % F1)\n",
    "print('   (you should see a value epsilon of about 8.99e-05)\\n')\n",
    "print('   (you should see a Best F1 value of  0.875000)\\n\\n')\n",
    "\n",
    "#  Find the outliers in the training set and plot the\n",
    "outliers = p < epsilon\n",
    "\n",
    "#  Draw a red circle around those outliers\n",
    "visualizeFit(X,  mu, sigma2)\n",
    "plt.xlabel('Latency (ms)')\n",
    "plt.ylabel('Throughput (mb/s)')\n",
    "plt.plot(X[outliers, 0], X[outliers, 1], 'ro', ms=10, fillstyle='none')"
   ]
  },
  {
   "cell_type": "markdown",
   "metadata": {},
   "source": [
    "## 1.4 High dimensional dataset\n",
    "\n",
    "The last part of the script will run the anomaly detection algorithm you implemented on a more realistic and much harder dataset. In this dataset, each example is described by 11 features, capturing many more properties of your compute servers.\n",
    "\n",
    "The script will use your code to estimate the Gaussian parameters ($\\mu_i$ and $\\sigma^2_i$), evaluate the probabilities for both the training data X from which you estimated the Gaussian parameters, and do so for the the cross-validation set Xval. Finally, it will use selectThreshold to find the best threshold $\\epsilon$. You should see a value epsilon of about 1.38e-18, and 117 anomalies found."
   ]
  },
  {
   "cell_type": "code",
   "execution_count": 9,
   "metadata": {},
   "outputs": [
    {
     "name": "stdout",
     "output_type": "stream",
     "text": [
      "Best epsilon found using cross-validation: 1.377229e-18\n",
      "\n",
      "Best F1 on Cross Validation Set:  0.615385\n",
      "\n",
      "   (you should see a value epsilon of about 1.38e-18)\n",
      "\n",
      "   (you should see a Best F1 value of 0.615385)\n",
      "\n",
      "# Outliers found: 117\n",
      "\n",
      "\n"
     ]
    }
   ],
   "source": [
    "# ================== Part 4: Multidimensional Outliers ===================\n",
    "#  We will now use the code from the previous part and apply it to a \n",
    "#  harder problem in which more features describe each datapoint and only \n",
    "#  some features indicate whether a point is an outlier.\n",
    "#\n",
    "\n",
    "#  Loads the second dataset. You should now have the\n",
    "#  variables X, Xval, yval in your environment\n",
    "mat = scipy.io.loadmat('ex8data2.mat')\n",
    "X = mat['X']\n",
    "Xval = mat['Xval']\n",
    "yval = mat['yval']\n",
    "\n",
    "#  Apply the same steps to the larger dataset\n",
    "mu, sigma2 = estimateGaussian(X)\n",
    "\n",
    "#  Training set \n",
    "p = multivariateGaussian(X, mu, sigma2)\n",
    "\n",
    "#  Cross-validation set\n",
    "pval = multivariateGaussian(Xval, mu, sigma2)\n",
    "\n",
    "#  Find the best threshold\n",
    "epsilon, F1 = selectThreshold(yval, pval)\n",
    "\n",
    "print('Best epsilon found using cross-validation: %e\\n' % epsilon)\n",
    "print('Best F1 on Cross Validation Set:  %f\\n' % F1)\n",
    "print('   (you should see a value epsilon of about 1.38e-18)\\n')\n",
    "print('   (you should see a Best F1 value of 0.615385)\\n')\n",
    "print('# Outliers found: %d\\n\\n' % np.sum(p < epsilon))\n"
   ]
  },
  {
   "cell_type": "markdown",
   "metadata": {},
   "source": [
    "# 2 Recommender Systems\n",
    "\n",
    "In this part of the exercise, you will implement the collaborative filtering learning algorithm and apply it to a dataset of movie ratings. This dataset consists of ratings on a scale of 1 to 5. The dataset has $n_u = 943$ users, and $n_m = 1682$ movies. For this part of the exercise, you will be working with the script ex8_cofi.m.\n",
    "\n",
    "In the next parts of this exercise, you will implement the function cofiCostFunc that computes the collaborative fitlering objective function and gradient. After implementing the cost function and gradient, you will use fmincg to learn the parameters for collaborative filtering."
   ]
  },
  {
   "cell_type": "markdown",
   "metadata": {},
   "source": [
    "## 2.1 Movie ratings dataset\n",
    "The first part of the script will load the dataset ex8_movies.mat, providing the variables Y and R in your Python environment. \n",
    "\n",
    "The matrix Y (a $num_movies \\times num_users$ matrix) stores the ratings $y^{(i,j)}$ (from 1 to 5). The matrix R is an binary-valued indicator matrix, where $R(i, j)$ = 1 if user j gave a rating to movie i, and $R(i, j)$ = 0 otherwise. The objective of collaborative filtering is to predict movie ratings for the movies that users have not yet rated, that is, the entries with $R(i, j)$ = 0. This will allow us to recommend the movies with the highest predicted ratings to the user.\n",
    "\n",
    "To help you understand the matrix Y, the script will compute the average movie rating for the first movie (Toy Story) and output the average rating to the screen. \n",
    "\n",
    "Throughout this part of the exercise, you will also be working with the matrices, X and Theta:\n",
    "    \n",
    "$$ X = \\begin{bmatrix}\n",
    "           - (x^{(1)})^T - \\\\\n",
    "           - (x^{(2)})^T - \\\\\n",
    "           \\vdots \\\\\n",
    "           - (x^{(m)})^T - \\\\\n",
    "         \\end{bmatrix}, \n",
    "   Theta = \\begin{bmatrix}\n",
    "           - (\\theta^{(1)})^T - \\\\\n",
    "           - (\\theta^{(2)})^T - \\\\\n",
    "           \\vdots \\\\\n",
    "           - (\\theta^{(m)})^T - \\\\\n",
    "         \\end{bmatrix}$$\n",
    "\n",
    "The i-th row of X corresponds to the feature vector $x^{(i)}$ for the i-th movie, and the j-th row of Theta corresponds to one parameter vector $\\theta^{(j)}$, for the j-th user. Both $x^{(i)}$ and $\\theta^{(j)}$ are n-dimensional vectors. For the purposes of this exercise, you will use n = 100, and therefore, $x^{(i)} \\in \\Bbb{R}^100$ and $\\theta^{(j)} \\in \\Bbb{R}^100$\n",
    "\n",
    "Correspondingly, X is a $n_m \\times 100$ matrix and Theta is a $n_u \\times 100$ matrix."
   ]
  },
  {
   "cell_type": "code",
   "execution_count": 10,
   "metadata": {},
   "outputs": [
    {
     "name": "stdout",
     "output_type": "stream",
     "text": [
      "Loading movie ratings dataset.\n",
      "\n",
      "\n",
      "Average rating for movie 1 (Toy Story): 2.583245 / 5\n",
      "\n",
      "\n"
     ]
    },
    {
     "data": {
      "image/png": "[encoded data removed]",
      "text/plain": [
       "<matplotlib.figure.Figure at 0x7fde547d5b70>"
      ]
     },
     "metadata": {},
     "output_type": "display_data"
    }
   ],
   "source": [
    "# =============== Part 1: Loading movie ratings dataset ================\n",
    "#  You will start by loading the movie ratings dataset to understand the\n",
    "#  structure of the data.\n",
    "#  \n",
    "print('Loading movie ratings dataset.\\n\\n')\n",
    "\n",
    "#  Load data\n",
    "mat = scipy.io.loadmat ('ex8_movies.mat')\n",
    "R = mat['R']\n",
    "Y = mat['Y']\n",
    "\n",
    "#  Y is a 1682x943 matrix, containing ratings (1-5) of 1682 movies on \n",
    "#  943 users\n",
    "#\n",
    "#  R is a 1682x943 matrix, where R(i,j) = 1 if and only if user j gave a\n",
    "#  rating to movie i\n",
    "\n",
    "#  From the matrix, we can compute statistics like average rating.\n",
    "print('Average rating for movie 1 (Toy Story): %f / 5\\n\\n' % np.mean(Y[1, R[1, :]]))\n",
    "\n",
    "#  We can \"visualize\" the ratings matrix by plotting it with imagesc\n",
    "fig, ax = plt.subplots(figsize=(12,12))\n",
    "ax.imshow(Y)\n",
    "plt.ylabel('Movies');\n",
    "plt.xlabel('Users');"
   ]
  },
  {
   "cell_type": "markdown",
   "metadata": {},
   "source": [
    "## 2.2 Collaborative filtering learning algorithm\n",
    "\n",
    "Now, you will start implementing the collaborative filtering learning algorithm. You will start by implementing the cost function (without regularization).\n",
    "\n",
    "The collaborative filtering algorithm in the setting of movie recommendations considers a set of n-dimensional parameter vectors $x^{(1)}, \\cdots, x^{(n_m)}$ and $\\theta(1), \\cdots, \\theta^{(n_u)}$, where the model predicts the rating for movie i by user j as $y^{(i,j)} = (\\theta^{(j)})^Tx^{(i)}$. Given a dataset that consists of a set of ratings produced by some users on some movies, you wish to learn the parameter vectors $x^{(1)}, \\cdots, x^{(n_m)}, \\theta^{(1)}, \\cdots, \\theta^{(n_u)}$ that produce the best fit (minimizes the squared error).\n",
    "\n",
    "You will complete the code in cofiCostFunc to compute the cost function and gradient for collaborative filtering. Note that the parameters to the function (i.e., the values that you are trying to learn) are X and Theta. In order to use an off-the-shelf minimizer such as fmincg, the cost function has been set up to unroll the parameters into a single vector params. You had previously used the same vector unrolling method in the neural networks programming exercise."
   ]
  },
  {
   "cell_type": "markdown",
   "metadata": {
    "collapsed": true
   },
   "source": [
    "### 2.2.1 Collaborative filtering cost function\n",
    "\n",
    "The collaborative filtering cost function (without regularization) is given by \n",
    "\n",
    "$$\n",
    "J(x^{(1)}, \\cdots, x^{(n_m)}, \\theta^{(1)}, \\cdots, \\theta^{(n_u)} = \\frac{1}{2}\\sum\\limits_{(i,j):r(i,j)=1} ((\\theta^{(j)})^Tx^{(i)}-y^{(i,j)})^2.\n",
    "$$\n",
    "You should now modify cofiCostFunc to return this cost in the variable J. Note that you should be accumulating the cost for user j and movie i only if R(i; j) = 1.\n",
    "\n",
    "After you have completed the function, the script will run your cost function. You should expect to see an output of 22.22."
   ]
  },
  {
   "cell_type": "code",
   "execution_count": 11,
   "metadata": {
    "collapsed": true
   },
   "outputs": [],
   "source": [
    "def cofiCostFunc(params, Y, R, num_users, num_movies, num_features, lambda_t):\n",
    "#COFICOSTFUNC Collaborative filtering cost function\n",
    "#   [J, grad] = COFICOSTFUNC(params, Y, R, num_users, num_movies, ...\n",
    "#   num_features, lambda) returns the cost and gradient for the\n",
    "#   collaborative filtering problem.\n",
    "#\n",
    "    # Unfold the U and W matrices from params\n",
    "    Y = np.matrix(Y)  # (1682, 943)\n",
    "    R = np.matrix(R)  # (1682, 943)\n",
    "    \n",
    "    # reshape the parameter array into parameter matrices\n",
    "    X = np.matrix(np.reshape(params[:num_movies * num_features], (num_movies, num_features)))  # (1682, 10)\n",
    "    Theta = np.matrix(np.reshape(params[num_movies * num_features:], (num_users, num_features)))  # (943, 10)\n",
    "    \n",
    "    # initializations\n",
    "    J = 0\n",
    "    X_grad = np.zeros(X.shape)  # (1682, 10)\n",
    "    Theta_grad = np.zeros(Theta.shape)  # (943, 10)\n",
    "    \n",
    "    # compute the cost\n",
    "    error = np.multiply((X * Theta.T) - Y, R)  # (1682, 943)\n",
    "    squared_error = np.power(error, 2)  # (1682, 943)\n",
    "    J = (1. / 2) * np.sum(squared_error)\n",
    "    \n",
    "    # add the cost regularization\n",
    "    J = J + ((lambda_t / 2) * np.sum(np.power(Theta, 2)))\n",
    "    J = J + ((lambda_t / 2) * np.sum(np.power(X, 2)))\n",
    "    \n",
    "    # calculate the gradients with regularization\n",
    "    X_grad = (error * Theta) + (lambda_t * X)\n",
    "    Theta_grad = (error.T * X) + (lambda_t * Theta)\n",
    "    \n",
    "    # unravel the gradient matrices into a single array\n",
    "    grad = np.vstack((X_grad.reshape(-1, 1),  Theta_grad.reshape(-1, 1)))\n",
    "    \n",
    "    return J, grad"
   ]
  },
  {
   "cell_type": "code",
   "execution_count": 12,
   "metadata": {},
   "outputs": [
    {
     "name": "stdout",
     "output_type": "stream",
     "text": [
      "Cost at loaded parameters: 22.224604  \n",
      "(this value should be about 22.22)\n",
      "\n"
     ]
    }
   ],
   "source": [
    "# ============ Part 2: Collaborative Filtering Cost Function ===========\n",
    "#  You will now implement the cost function for collaborative filtering.\n",
    "#  To help you debug your cost function, we have included set of weights\n",
    "#  that we trained on that. Specifically, you should complete the code in \n",
    "#  cofiCostFunc.m to return J.\n",
    "\n",
    "#  Load pre-trained weights (X, Theta, num_users, num_movies, num_features)\n",
    "mat = scipy.io.loadmat ('ex8_movieParams.mat')\n",
    "Theta = mat['Theta']\n",
    "X = mat['X']\n",
    "\n",
    "#  Reduce the data set size so that this runs faster\n",
    "num_users = 4\n",
    "num_movies = 5\n",
    "num_features = 3\n",
    "X = X[0:num_movies, 0:num_features]\n",
    "Theta = Theta[0:num_users, 0:num_features]\n",
    "Y = Y[0:num_movies, 0:num_users]\n",
    "R = R[0:num_movies, 0:num_users]\n",
    "\n",
    "#  Evaluate cost function\n",
    "J, _ = cofiCostFunc(np.vstack((X.reshape(-1, 1),  Theta.reshape(-1, 1))), Y, R, num_users, num_movies, num_features, 0);\n",
    "           \n",
    "print('Cost at loaded parameters: %f  \\n(this value should be about 22.22)\\n' % J);"
   ]
  },
  {
   "cell_type": "markdown",
   "metadata": {},
   "source": [
    "### 2.2.2 Collaborative filtering gradient\n",
    "Now, you should implement the gradient (without regularization). Specifically, you should complete the code in cofiCostFunc to return the variables X grad and Theta grad. Note that X grad should be a matrix of the same size as X and similarly, Theta grad is a matrix of the same size as Theta. The gradients of the cost function is given by:\n",
    "\n",
    "$$\\frac{\\partial J}{\\partial x_k^{(i)} } = \\sum_{j:r(i,j)=1}((\\theta^{(j)})^T x^{(i)}-y^{(i,j)})\\theta_k^{(j)}$$\n",
    "\n",
    "$$\\frac{\\partial J}{\\partial \\theta_k^{(j)} } = \\sum_{i:r(i,j)=1}((\\theta^{(j)})^T x^{(i)}-y^{(i,j)})x_k^{(i)}$$\n",
    "\n",
    "Note that the function returns the gradient for both sets of variables by unrolling them into a single vector. After you have completed the code to compute the gradients, the script will run a gradient check (checkCostFunction) to numerically check the implementation of your gradients. If your implementation is correct, you should find that the analytical and numerical gradients match up closely."
   ]
  },
  {
   "cell_type": "code",
   "execution_count": 13,
   "metadata": {
    "collapsed": true
   },
   "outputs": [],
   "source": [
    "def computeNumericalGradient(J, theta):\n",
    "#COMPUTENUMERICALGRADIENT Computes the gradient using \"finite differences\"\n",
    "#and gives us a numerical estimate of the gradient.\n",
    "#   numgrad = COMPUTENUMERICALGRADIENT(J, theta) computes the numerical\n",
    "#   gradient of the function J around theta. Calling y = J(theta) should\n",
    "#   return the function value at theta.\n",
    "\n",
    "# Notes: The following code implements numerical gradient checking, and \n",
    "#        returns the numerical gradient.It sets numgrad(i) to (a numerical \n",
    "#        approximation of) the partial derivative of J with respect to the \n",
    "#        i-th input argument, evaluated at theta. (i.e., numgrad(i) should \n",
    "#        be the (approximately) the partial derivative of J with respect \n",
    "#        to theta(i).)\n",
    "#                \n",
    "    numgrad = np.zeros(theta.shape)\n",
    "    perturb = np.zeros(theta.shape)\n",
    "    e = 1e-4\n",
    "    for p in range(0, np.size(theta)):\n",
    "        # Set perturbation vector\n",
    "        perturb[p] = e\n",
    "        loss1, _ = J(theta - perturb)\n",
    "        loss2, _ = J(theta + perturb)\n",
    "        # Compute Numerical Gradient\n",
    "        numgrad[p] = (loss2 - loss1) / (2*e)\n",
    "        perturb[p] = 0\n",
    "    return numgrad"
   ]
  },
  {
   "cell_type": "code",
   "execution_count": 14,
   "metadata": {},
   "outputs": [],
   "source": [
    "def checkCostFunction(lambda_t = 0):\n",
    "#CHECKCOSTFUNCTION Creates a collaborative filering problem \n",
    "#to check your cost function and gradients\n",
    "#   CHECKCOSTFUNCTION(lambda) Creates a collaborative filering problem \n",
    "#   to check your cost function and gradients, it will output the \n",
    "#   analytical gradients produced by your code and the numerical gradients \n",
    "#   (computed using computeNumericalGradient). These two gradient \n",
    "#   computations should result in very similar values.\n",
    "\n",
    "    # Create small problem\n",
    "    X_t = np.random.rand(4, 3)\n",
    "    Theta_t = np.random.rand(5, 3)\n",
    "\n",
    "    # Zap out most entries\n",
    "    Y = np.matmul(X_t, Theta_t.T)\n",
    "    Y[np.random.rand(Y.shape[0], Y.shape[1]) > 0.5] = 0\n",
    "    R = np.zeros(Y.shape)\n",
    "    R[Y != 0] = 1\n",
    "\n",
    "    # Run Gradient Checking\n",
    "    X = np.random.randn(X_t.shape[0], X_t.shape[1])\n",
    "    Theta = np.random.randn(Theta_t.shape[0], Theta_t.shape[1])\n",
    "    num_users = Y.shape[1]\n",
    "    num_movies = Y.shape[0]\n",
    "    num_features = Theta_t.shape[1]\n",
    "\n",
    "    cost_func = lambda t: cofiCostFunc(t, Y, R, num_users, num_movies, num_features, lambda_t)\n",
    "    numgrad = computeNumericalGradient(cost_func, np.vstack((X.reshape(-1, 1),  Theta.reshape(-1, 1))))\n",
    "\n",
    "    cost, grad = cofiCostFunc(np.vstack((X.reshape(-1, 1),  Theta.reshape(-1, 1))), \\\n",
    "                                        Y, R, num_users, num_movies, num_features, lambda_t)\n",
    "\n",
    "\n",
    "    for i, (numgrad_ , grad_) in enumerate(zip(numgrad, grad)):\n",
    "        print(\"%f\\t%f\" % (numgrad_, grad_))\n",
    "    \n",
    "    print('The above two columns you get should be very similar.\\n (Left-Your Numerical Gradient, Right-Analytical Gradient)\\n\\n')\n",
    "\n",
    "    diff = np.linalg.norm(numgrad-grad)/np.linalg.norm(numgrad+grad)\n",
    "    print('If your cost function implementation is correct, then \\n the relative difference will be small (less than 1e-9). \\n \\nRelative Difference: %g\\n' % diff)\n"
   ]
  },
  {
   "cell_type": "code",
   "execution_count": 15,
   "metadata": {},
   "outputs": [
    {
     "name": "stdout",
     "output_type": "stream",
     "text": [
      "\n",
      "Checking Gradients (without regularization) ... \n",
      "\n",
      "-2.759472\t-2.759472\n",
      "-0.040628\t-0.040628\n",
      "3.588062\t3.588062\n",
      "0.205081\t0.205081\n",
      "0.139349\t0.139349\n",
      "-0.001090\t-0.001090\n",
      "-1.011914\t-1.011914\n",
      "0.008558\t0.008558\n",
      "1.225896\t1.225896\n",
      "0.435791\t0.435791\n",
      "0.156341\t0.156341\n",
      "0.135326\t0.135326\n",
      "0.557460\t0.557460\n",
      "-3.008167\t-3.008167\n",
      "-1.787039\t-1.787039\n",
      "1.807099\t1.807099\n",
      "-2.323227\t-2.323227\n",
      "-4.971089\t-4.971089\n",
      "-0.216585\t-0.216585\n",
      "0.639980\t0.639980\n",
      "0.563009\t0.563009\n",
      "0.000000\t0.000000\n",
      "0.000000\t0.000000\n",
      "0.000000\t0.000000\n",
      "-3.121128\t-3.121128\n",
      "2.876491\t2.876491\n",
      "7.357249\t7.357249\n",
      "The above two columns you get should be very similar.\n",
      " (Left-Your Numerical Gradient, Right-Analytical Gradient)\n",
      "\n",
      "\n",
      "If your cost function implementation is correct, then \n",
      " the relative difference will be small (less than 1e-9). \n",
      " \n",
      "Relative Difference: 8.0852e-13\n",
      "\n"
     ]
    }
   ],
   "source": [
    "# ============== Part 3: Collaborative Filtering Gradient ==============\n",
    "#  Once your cost function matches up with ours, you should now implement \n",
    "#  the collaborative filtering gradient function. Specifically, you should \n",
    "#  complete the code in cofiCostFunc.m to return the grad argument.\n",
    "#  \n",
    "print('\\nChecking Gradients (without regularization) ... \\n');\n",
    "\n",
    "#  Check gradients by running checkNNGradients\n",
    "checkCostFunction()"
   ]
  },
  {
   "cell_type": "markdown",
   "metadata": {},
   "source": [
    "### 2.2.3 Regularized cost function\n",
    "The cost function for collaborative \f",
    "ltering with regularization is given by\n",
    "\n",
    "$$\n",
    "J(x^{(1)}, \\cdots, x^{(n_m)}, \\theta^{(1)}, \\cdots, \\theta^{(n_u)} = \\frac{1}{2}\\sum\\limits_{(i,j):r(i,j)=1} ((\\theta^{(j)})^Tx^{(i)}-y^{(i,j)})^2 + (\\frac{\\lambda}{2}\\sum^{n_u}_{j=1}\\sum^{n}_{k=1}(\\theta^{(j)}_k)^2) + (\\frac{\\lambda}{2}\\sum^{n_m}_{i=1}\\sum^{n}_{k=1}(x^{(i)}_k)^2).\n",
    "$$\n",
    "\n",
    "You should now add regularization to your original computations of the cost function, J. After you are done, the script will run your regularized cost function, and you should expect to see a cost of about 31.34."
   ]
  },
  {
   "cell_type": "code",
   "execution_count": 16,
   "metadata": {},
   "outputs": [
    {
     "name": "stdout",
     "output_type": "stream",
     "text": [
      "Cost at loaded parameters (lambda = 1.5): 31.344056  \n",
      "(this value should be about 31.34)\n",
      "\n"
     ]
    }
   ],
   "source": [
    "# ========= Part 4: Collaborative Filtering Cost Regularization ========\n",
    "#  Now, you should implement regularization for the cost function for \n",
    "#  collaborative filtering. You can implement it by adding the cost of\n",
    "#  regularization to the original cost computation.\n",
    "#  \n",
    "\n",
    "#  Evaluate cost function\n",
    "J, _ = cofiCostFunc(np.vstack((X.reshape(-1, 1), Theta.reshape(-1, 1))), Y, R, num_users, num_movies, num_features, 1.5)\n",
    "           \n",
    "print('Cost at loaded parameters (lambda = 1.5): %f  \\n(this value should be about 31.34)\\n' % J)\n"
   ]
  },
  {
   "cell_type": "markdown",
   "metadata": {},
   "source": [
    "### 2.2.4 Regularized gradient\n",
    "Now that you have implemented the regularized cost function, you should proceed to implement regularization for the gradient. You should add to your implementation in cofiCostFunc to return the regularized gradient by adding the contributions from the regularization terms. Note that the gradients for the regularized cost function is given by:\n",
    "\n",
    "$$\\frac{\\partial J}{\\partial x_k^{(i)} } = \\sum_{j:r(i,j)=1}((\\theta^{(j)})^T x^{(i)}-y^{(i,j)})\\theta_k^{(j)} + \\lambda x^{(i)}_k$$\n",
    "\n",
    "$$\\frac{\\partial J}{\\partial \\theta_k^{(j)} } = \\sum_{i:r(i,j)=1}((\\theta^{(j)})^T x^{(i)}-y^{(i,j)})x_k^{(i)} + \\lambda \\theta^{(j)}_k$$\n",
    "\n",
    "This means that you just need to add $\\lambda x(i)$ to the X_grad(i,:) variable described earlier, and add $\\lambda\\theta^{(j)}$ to the Theta_grad(j,:) variable described earlier.\n",
    "\n",
    "\n",
    "After you have completed the code to compute the gradients, the script will run another gradient check (checkCostFunction) to numerically check the implementation of your gradients."
   ]
  },
  {
   "cell_type": "code",
   "execution_count": 17,
   "metadata": {},
   "outputs": [
    {
     "name": "stdout",
     "output_type": "stream",
     "text": [
      "\n",
      "Checking Gradients (with regularization) ... \n",
      "\n",
      "4.325111\t4.325111\n",
      "-4.224242\t-4.224242\n",
      "4.433862\t4.433862\n",
      "2.223754\t2.223754\n",
      "-0.692858\t-0.692858\n",
      "-0.109859\t-0.109859\n",
      "-2.641769\t-2.641769\n",
      "-0.004504\t-0.004504\n",
      "-2.263935\t-2.263935\n",
      "3.115600\t3.115600\n",
      "-9.374859\t-9.374859\n",
      "-4.769422\t-4.769422\n",
      "0.795454\t0.795454\n",
      "-3.241866\t-3.241866\n",
      "0.772048\t0.772048\n",
      "-0.680943\t-0.680943\n",
      "6.760548\t6.760548\n",
      "-1.072318\t-1.072318\n",
      "3.360463\t3.360463\n",
      "-2.264430\t-2.264430\n",
      "5.410672\t5.410672\n",
      "0.577622\t0.577622\n",
      "6.630554\t6.630554\n",
      "-2.992024\t-2.992024\n",
      "0.667373\t0.667373\n",
      "9.378724\t9.378724\n",
      "1.871413\t1.871413\n",
      "The above two columns you get should be very similar.\n",
      " (Left-Your Numerical Gradient, Right-Analytical Gradient)\n",
      "\n",
      "\n",
      "If your cost function implementation is correct, then \n",
      " the relative difference will be small (less than 1e-9). \n",
      " \n",
      "Relative Difference: 2.46477e-12\n",
      "\n"
     ]
    }
   ],
   "source": [
    "# ======= Part 5: Collaborative Filtering Gradient Regularization ======\n",
    "#  Once your cost matches up with ours, you should proceed to implement \n",
    "#  regularization for the gradient. \n",
    "#\n",
    "\n",
    "#  \n",
    "print('\\nChecking Gradients (with regularization) ... \\n')\n",
    "\n",
    "#  Check gradients by running checkNNGradients\n",
    "checkCostFunction(1.5)"
   ]
  },
  {
   "cell_type": "markdown",
   "metadata": {},
   "source": [
    "### 2.3 Learning movie recommendations\n",
    "\n",
    "After you have finished implementing the collaborative filtering cost function and gradient, you can now start training your algorithm to make movie recommendations for yourself. In the next part of the script, you can enter your own movie preferences, so that later when the algorithm runs, you can get your own movie recommendations! We have filled out some values according to our own preferences, but you should change this according to your own tastes. The list of all movies and their number in the dataset can be found listed in the file movie_idx.txt."
   ]
  },
  {
   "cell_type": "code",
   "execution_count": 18,
   "metadata": {
    "collapsed": true
   },
   "outputs": [],
   "source": [
    "def loadMovieList():\n",
    "#GETMOVIELIST reads the fixed movie list in movie.txt and returns a\n",
    "#cell array of the words\n",
    "#   movieList = GETMOVIELIST() reads the fixed movie list in movie.txt \n",
    "#   and returns a cell array of the words in movieList.\n",
    "\n",
    "    # Read the fixed movieulary list\n",
    "    f = open('movie_ids.txt', errors='ignore')\n",
    "\n",
    "    # Store all movies in cell array movie{}\n",
    "    n = 1682;  # Total number of movies \n",
    "    movieList = {}\n",
    "    \n",
    "    for line in f:\n",
    "        tokens = line.split(' ')\n",
    "        tokens[-1] = tokens[-1][:-1]\n",
    "        movieList[int(tokens[0]) - 1] = ' '.join(tokens[1:])\n",
    "\n",
    "    return movieList "
   ]
  },
  {
   "cell_type": "code",
   "execution_count": 19,
   "metadata": {},
   "outputs": [
    {
     "name": "stdout",
     "output_type": "stream",
     "text": [
      "\n",
      "\n",
      "New user ratings:\n",
      "\n",
      "Rated 4 for Toy Story (1995)\n",
      "\n",
      "Rated 3 for Twelve Monkeys (1995)\n",
      "\n",
      "Rated 5 for Usual Suspects, The (1995)\n",
      "\n",
      "Rated 4 for Outbreak (1995)\n",
      "\n",
      "Rated 5 for Shawshank Redemption, The (1994)\n",
      "\n",
      "Rated 3 for While You Were Sleeping (1995)\n",
      "\n",
      "Rated 5 for Forrest Gump (1994)\n",
      "\n",
      "Rated 2 for Silence of the Lambs, The (1991)\n",
      "\n",
      "Rated 4 for Alien (1979)\n",
      "\n",
      "Rated 5 for Die Hard 2 (1990)\n",
      "\n",
      "Rated 5 for Sphere (1998)\n",
      "\n"
     ]
    }
   ],
   "source": [
    "# ============== Part 6: Entering ratings for a new user ===============\n",
    "#  Before we will train the collaborative filtering model, we will first\n",
    "#  add ratings that correspond to a new user that we just observed. This\n",
    "#  part of the code will also allow you to put in your own ratings for the\n",
    "#  movies in our dataset!\n",
    "#\n",
    "movieList = loadMovieList()\n",
    "\n",
    "#  Initialize my ratings\n",
    "my_ratings = np.zeros((1682, 1))\n",
    "\n",
    "# Check the file movie_idx.txt for id of each movie in our dataset\n",
    "# For example, Toy Story (1995) has ID 1, so to rate it \"4\", you can set\n",
    "my_ratings[0] = 4\n",
    "\n",
    "# Or suppose did not enjoy Silence of the Lambs (1991), you can set\n",
    "my_ratings[97] = 2\n",
    "\n",
    "# We have selected a few movies we liked / did not like and the ratings we\n",
    "# gave are as follows:\n",
    "my_ratings[6] = 3\n",
    "my_ratings[11]= 5\n",
    "my_ratings[53] = 4\n",
    "my_ratings[63]= 5\n",
    "my_ratings[65]= 3\n",
    "my_ratings[68] = 5\n",
    "my_ratings[182] = 4\n",
    "my_ratings[225] = 5\n",
    "my_ratings[354]= 5\n",
    "\n",
    "print('\\n\\nNew user ratings:\\n');\n",
    "for i in range(0, len(my_ratings)):\n",
    "    if my_ratings[i] > 0: \n",
    "        print('Rated %d for %s\\n' % (my_ratings[i], movieList[i]))"
   ]
  },
  {
   "cell_type": "code",
   "execution_count": 20,
   "metadata": {},
   "outputs": [],
   "source": [
    "def normalizeRatings(Y, R):\n",
    "#NORMALIZERATINGS Preprocess data by subtracting mean rating for every \n",
    "#movie (every row)\n",
    "#   [Ynorm, Ymean] = NORMALIZERATINGS(Y, R) normalized Y so that each movie\n",
    "#   has a rating of 0 on average, and returns the mean rating in Ymean.\n",
    "#\n",
    "    m, n = Y.shape\n",
    "    Ymean = np.zeros((m, 1))\n",
    "    Ynorm = np.zeros(Y.shape)\n",
    "    for i in range(0, m):\n",
    "        idx = np.where(R[i, :] == 1)\n",
    "        Ymean[i] = np.mean(Y[i, idx])\n",
    "        Ynorm[i, idx] = Y[i, idx] - Ymean[i]\n",
    "\n",
    "    return Ynorm, Ymean"
   ]
  },
  {
   "cell_type": "code",
   "execution_count": 21,
   "metadata": {},
   "outputs": [
    {
     "name": "stdout",
     "output_type": "stream",
     "text": [
      "\n",
      "Training collaborative filtering...\n",
      "\n",
      "Warning: Maximum number of iterations has been exceeded.\n",
      "         Current function value: 38959.878554\n",
      "         Iterations: 100\n",
      "         Function evaluations: 160\n",
      "         Gradient evaluations: 160\n",
      "Recommender system learning completed.\n",
      "\n"
     ]
    }
   ],
   "source": [
    "# ================== Part 7: Learning Movie Ratings ====================\n",
    "#  Now, you will train the collaborative filtering model on a movie rating \n",
    "#  dataset of 1682 movies and 943 users\n",
    "#\n",
    "\n",
    "print('\\nTraining collaborative filtering...\\n');\n",
    "\n",
    "#  Load data\n",
    "mat = scipy.io.loadmat ('ex8_movies.mat')\n",
    "R = mat['R']\n",
    "Y = mat['Y']\n",
    "\n",
    "#  Y is a 1682x943 matrix, containing ratings (1-5) of 1682 movies by \n",
    "#  943 users\n",
    "#\n",
    "#  R is a 1682x943 matrix, where R(i,j) = 1 if and only if user j gave a\n",
    "#  rating to movie i\n",
    "\n",
    "#  Add our own ratings to the data matrix\n",
    "Y = np.hstack((my_ratings, Y));\n",
    "R = np.hstack(((my_ratings != 0), R))\n",
    "\n",
    "#  Normalize Ratings\n",
    "Ynorm, Ymean = normalizeRatings(Y, R)\n",
    "\n",
    "#  Useful Values\n",
    "num_users = Y.shape[1]\n",
    "num_movies = Y.shape[0]\n",
    "num_features = 10\n",
    "\n",
    "# Set Initial Parameters (Theta, X)\n",
    "X = np.random.randn(num_movies, num_features)\n",
    "Theta = np.random.randn(num_users, num_features)\n",
    "\n",
    "initial_parameters = np.vstack((X.reshape(-1, 1), Theta.reshape(-1, 1)))\n",
    "\n",
    "# Set Regularization\n",
    "lambda_t = 10\n",
    "\n",
    "cost_func = lambda t: cofiCostFunc(t.reshape(-1,1), Ynorm, R, num_users, num_movies, num_features, lambda_t)[0]\n",
    "grad_func = lambda t: cofiCostFunc(t.reshape(-1,1), Ynorm, R, num_users, num_movies, num_features, lambda_t)[1].A1\n",
    "\n",
    "    \n",
    "theta = fmin_cg(cost_func, initial_parameters.T, fprime=grad_func, maxiter=100, disp=True)\n",
    "#theta = minimize(fun=cost_func, x0=initial_parameters, \n",
    "#                method='CG', jac=grad_func, options={'maxiter': 100, 'disp':True})\n",
    "\n",
    "# Unfold the returned theta back into U and W\n",
    "X = np.reshape(theta[0:num_movies*num_features], (num_movies, num_features))\n",
    "Theta = np.reshape(theta[num_movies*num_features:], (num_users, num_features))\n",
    "\n",
    "print('Recommender system learning completed.\\n')"
   ]
  },
  {
   "cell_type": "markdown",
   "metadata": {},
   "source": [
    "### 2.3.1 Recommendations\n",
    "\n",
    "After the additional ratings have been added to the dataset, the script will proceed to train the collaborative filtering model. This will learn the parameters X and Theta. To predict the rating of movie i for user j, you need to compute $(\\theta^{(j)})^T x^{(i)}$. The next part of the script computes the ratings for all the movies and users and displays the movies that it recommends (Figure 4), according to ratings that were entered earlier in the script. Note that you might obtain a different set of the predictions due to di\u000b",
    "erent random initializations."
   ]
  },
  {
   "cell_type": "code",
   "execution_count": 22,
   "metadata": {},
   "outputs": [
    {
     "name": "stdout",
     "output_type": "stream",
     "text": [
      "Top 10 movie predictions:\n",
      "Predicted rating of 5.000007 for movie Prefontaine (1997).\n",
      "Predicted rating of 5.000002 for movie Marlene Dietrich: Shadow and Light (1996) .\n",
      "Predicted rating of 5.000000 for movie Santa with Muscles (1996).\n",
      "Predicted rating of 5.000000 for movie Star Kid (1997).\n",
      "Predicted rating of 5.000000 for movie Saint of Fort Washington, The (1993).\n",
      "Predicted rating of 5.000000 for movie They Made Me a Criminal (1939).\n",
      "Predicted rating of 5.000000 for movie Entertaining Angels: The Dorothy Day Story (1996).\n",
      "Predicted rating of 5.000000 for movie Someone Else's America (1995).\n",
      "Predicted rating of 4.999998 for movie Great Day in Harlem, A (1994).\n",
      "Predicted rating of 4.999977 for movie Aiqing wansui (1994).\n",
      "\n",
      "\n",
      "Original ratings provided:\n",
      "\n",
      "Rated 4 for Toy Story (1995)\n",
      "\n",
      "Rated 3 for Twelve Monkeys (1995)\n",
      "\n",
      "Rated 5 for Usual Suspects, The (1995)\n",
      "\n",
      "Rated 4 for Outbreak (1995)\n",
      "\n",
      "Rated 5 for Shawshank Redemption, The (1994)\n",
      "\n",
      "Rated 3 for While You Were Sleeping (1995)\n",
      "\n",
      "Rated 5 for Forrest Gump (1994)\n",
      "\n",
      "Rated 2 for Silence of the Lambs, The (1991)\n",
      "\n",
      "Rated 4 for Alien (1979)\n",
      "\n",
      "Rated 5 for Die Hard 2 (1990)\n",
      "\n",
      "Rated 5 for Sphere (1998)\n",
      "\n"
     ]
    }
   ],
   "source": [
    "# ================== Part 8: Recommendation for you ====================\n",
    "#  After training the model, you can now make recommendations by computing\n",
    "#  the predictions matrix.\n",
    "#\n",
    "\n",
    "p = np.matmul(X, Theta.T)\n",
    "my_predictions = p[:,0].reshape(-1, 1) + Ymean\n",
    "\n",
    "movieList = loadMovieList()\n",
    "\n",
    "ix = np.argsort(my_predictions, axis=0)[::-1]\n",
    "print(\"Top 10 movie predictions:\")\n",
    "for i in range(10):\n",
    "    j = int(ix[i])\n",
    "    print('Predicted rating of %f for movie %s.' % (my_predictions[j], movieList[j]))\n",
    "\n",
    "print('\\n\\nOriginal ratings provided:\\n');\n",
    "for i in range(len(my_ratings)):\n",
    "    if my_ratings[i] > 0 :\n",
    "        print('Rated %d for %s\\n' % (my_ratings[i], movieList[i]))"
   ]
  },
  {
   "cell_type": "code",
   "execution_count": null,
   "metadata": {
    "collapsed": true
   },
   "outputs": [],
   "source": []
  }
 ],
 "metadata": {
  "kernelspec": {
   "display_name": "Python 3",
   "language": "python",
   "name": "python3"
  },
  "language_info": {
   "codemirror_mode": {
    "name": "ipython",
    "version": 3
   },
   "file_extension": ".py",
   "mimetype": "text/x-python",
   "name": "python",
   "nbconvert_exporter": "python",
   "pygments_lexer": "ipython3",
   "version": "3.5.2"
  }
 },
 "nbformat": 4,
 "nbformat_minor": 2
}
