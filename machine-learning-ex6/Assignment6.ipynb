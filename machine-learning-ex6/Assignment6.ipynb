{
 "cells": [
  {
   "cell_type": "markdown",
   "metadata": {},
   "source": [
    "# Programming Exercise 6: Support Vector Machines"
   ]
  },
  {
   "cell_type": "markdown",
   "metadata": {},
   "source": [
    "## Introduction\n",
    "In this exercise, you will be using support vector machines (SVMs) to build a spam classifier. Before starting on the programming exercise, we strongly recommend watching the video lectures and completing the review questions for the associated topics."
   ]
  },
  {
   "cell_type": "code",
   "execution_count": 1,
   "metadata": {
    "collapsed": true
   },
   "outputs": [],
   "source": [
    "from __future__ import division\n",
    "import numpy as np\n",
    "import matplotlib.pyplot as plt\n",
    "from mpl_toolkits.mplot3d import Axes3D\n",
    "import scipy.io\n",
    "import sklearn.svm\n",
    "import math\n",
    "from collections import OrderedDict\n",
    "\n",
    "%matplotlib inline\n",
    "\n",
    "import warnings\n",
    "warnings.filterwarnings('ignore')"
   ]
  },
  {
   "cell_type": "markdown",
   "metadata": {},
   "source": [
    "# 1 Support Vector Machines\n",
    "\n",
    "In the first half of this exercise, you will be using support vector machines (SVMs) with various example 2D datasets. Experimenting with these datasets will help you gain an intuition of how SVMs work and how to use a Gaussian kernel with SVMs. In the next half of the exercise, you will be using support vector machines to build a spam classifier. The provided script, ex6.m, will help you step through the first half of the exercise."
   ]
  },
  {
   "cell_type": "code",
   "execution_count": 2,
   "metadata": {
    "collapsed": true
   },
   "outputs": [],
   "source": [
    "# =============== Part 1: Loading and Visualizing Data ================\n",
    "#  We start the exercise by first loading and visualizing the dataset. \n",
    "#  The following code will load the dataset into your environment and plot\n",
    "#  the data.\n",
    "#\n",
    "\n",
    "a = scipy.io.loadmat('ex6data1.mat')\n",
    "X = a['X']\n",
    "y = a['y']"
   ]
  },
  {
   "cell_type": "code",
   "execution_count": 3,
   "metadata": {
    "collapsed": true
   },
   "outputs": [],
   "source": [
    "def plotData(X, y):\n",
    "    \n",
    "    y = y.flatten()\n",
    "    # get indices of 1 and 0 y values\n",
    "    pos = y == 1\n",
    "    neg = y == 0\n",
    "    \n",
    "    # plot positive (i.e., accepted) points\n",
    "    plt.plot(X[pos,0], X[pos,1], '+', color='k', ms=7, mew=2)\n",
    "    \n",
    "    # plot negative (i.e., not accepted) points\n",
    "    plt.plot(X[neg,0], X[neg,1], 'o', color='y', ms=7)\n",
    "\n",
    "    \n",
    "def visualizeBoundary(X, y, clf):\n",
    "    \n",
    "    # plot data on top of bounary\n",
    "    plotData(X, y)\n",
    "    \n",
    "    # make classification predictions over a grid of values\n",
    "    x1 = np.linspace(X[:,0].min(), X[:,0].max(), 100)\n",
    "    x2 = np.linspace(X[:,1].min(), X[:,1].max(), 100)\n",
    "    X1, X2 = np.meshgrid(x1, x2)\n",
    "    vals = np.zeros(X1.shape)\n",
    "    for ii in range(100):\n",
    "        this_X = np.vstack((X1[:,ii], X2[:,ii])).T\n",
    "        vals[:, ii] = clf.predict(this_X)\n",
    "        \n",
    "    plt.contour(X1, X2, vals, [0,0], corner_mask='legacy')"
   ]
  },
  {
   "cell_type": "code",
   "execution_count": 4,
   "metadata": {},
   "outputs": [
    {
     "name": "stdout",
     "output_type": "stream",
     "text": [
      "Loading and Visualizing Data ...\n",
      "\n"
     ]
    },
    {
     "data": {
      "image/png": "[encoded data removed]",
      "text/plain": [
       "<matplotlib.figure.Figure at 0x7f62bfe79e10>"
      ]
     },
     "metadata": {},
     "output_type": "display_data"
    }
   ],
   "source": [
    "print('Loading and Visualizing Data ...\\n')\n",
    "plotData(X, y)"
   ]
  },
  {
   "cell_type": "markdown",
   "metadata": {},
   "source": [
    "## 1.1 Example Dataset 1\n",
    "We will begin by with a 2D example dataset which can be separated by a linear boundary. The script will plot the training data (Figure 1). In this dataset, the positions of the positive examples (indicated with +) and the negative examples (indicated with o) suggest a natural separation indicated by the gap. However, notice that there is an outlier positive example + on the far left at about (0.1, 4.1). As part of this exercise, you will also see how this outlier a↵ects the SVM decision boundary.\n",
    "\n",
    "In this part of the exercise, you will try using different values of the C parameter with SVMs. Informally, the C parameter is a positive value that controls the penalty for misclassified training examples. A large C parameter tells the SVM to try to classify all the examples correctly. C plays a role similar to $\\frac{1}{\\lambda}$, where $\\lambda$ is the regularization parameter that we were using previously for logistic regression.\n",
    "\n",
    "The next part in script will run the SVM training (with C = 1) using SVM software that we have included with the starter code, svmTrain When C = 1, you should find that the SVM puts the decision boundary in the gap between the two datasets and misclassifies the data point on the far left (Figure 2).\n",
    "\n",
    "Your task is to try different values of C on this dataset. Specifically, you should change the value of C in the script to C = 100 and run the SVM training again. When C = 100, you should find that the SVM now classifies every single example correctly, but has a decision boundary that does not appear to be a natural fit for the data (Figure 3)."
   ]
  },
  {
   "cell_type": "code",
   "execution_count": 5,
   "metadata": {},
   "outputs": [
    {
     "data": {
      "text/plain": [
       "<matplotlib.text.Text at 0x7f62bdcf0780>"
      ]
     },
     "execution_count": 5,
     "metadata": {},
     "output_type": "execute_result"
    },
    {
     "data": {
      "image/png": "[encoded data removed]",
      "text/plain": [
       "<matplotlib.figure.Figure at 0x7f62bde19550>"
      ]
     },
     "metadata": {},
     "output_type": "display_data"
    },
    {
     "data": {
      "image/png": "[encoded data removed]",
      "text/plain": [
       "<matplotlib.figure.Figure at 0x7f62ecf486d8>"
      ]
     },
     "metadata": {},
     "output_type": "display_data"
    }
   ],
   "source": [
    "# ==================== Part 2: Training Linear SVM ====================\n",
    "#  The following code will train a linear SVM on the dataset and plot the\n",
    "#  decision boundary learned.\n",
    "#\n",
    "\n",
    "# Load from ex6data1: \n",
    "# You will have X, y in your environment\n",
    "\n",
    "a = scipy.io.loadmat('ex6data1.mat')\n",
    "X = a['X']\n",
    "y = a['y']\n",
    "\n",
    "# You should try to change the C value below and see how the decision\n",
    "# boundary varies (e.g., try C = 1000)\n",
    "\n",
    "C = 1.0\n",
    "clf = sklearn.svm.SVC(C=C, kernel='linear')\n",
    "clf.fit(X, y.ravel()) \n",
    "\n",
    "visualizeBoundary(X, y, clf)\n",
    "plt.title('C=1')\n",
    "\n",
    "# C = 100\n",
    "C = 100.0\n",
    "clf = sklearn.svm.SVC(C=C, kernel='linear')\n",
    "clf.fit(X, y.ravel()) \n",
    "\n",
    "plt.figure()\n",
    "visualizeBoundary(X, y, clf)\n",
    "plt.title('C=100')"
   ]
  },
  {
   "cell_type": "markdown",
   "metadata": {},
   "source": [
    "## 1.2 SVM with Gaussian Kernels\n",
    "In this part of the exercise, you will be using SVMs to do non-linear classification. In particular, you will be using SVMs with Gaussian kernels on datasets that are not linearly separable.\n",
    "\n",
    "\n",
    "### 1.2.1 Gaussian Kernel\n",
    "To find non-linear decision boundaries with the SVM, we need to first implement a Gaussian kernel. You can think of the Gaussian kernel as a similarity function that measures the “distance” between a pair of examples, $(x^{(i)}, x^{(j)})$. The Gaussian kernel is also parameterized by a bandwidth parameter, $\\sigma$, which determines how fast the similarity metric decreases (to 0) as the examples are further apart. \n",
    "\n",
    "You should now complete the code in gaussianKernel.m to compute the Gaussian kernel between two examples, $(x^{(i)}, x^{(j)})$. The Gaussian kernel function is defined as:\n",
    "\n",
    "$$\n",
    "K_{gaussian}(x^{(i)}, x{(j)}) = exp(-\\frac{\\|x^{(i)}-x^{(j)}\\|^2}{2\\sigma^2}) = exp(-\\frac{\\sum\\limits^n_{k=1}(x^{(i)}_k-x^{(j)}_k)^2}{2\\sigma^2}) $$\n",
    "\n",
    "Once you’ve completed the function gaussianKernel.m, the script ex6.m will test your kernel function on two provided examples and you should expect to see a value of 0.324652.\n"
   ]
  },
  {
   "cell_type": "code",
   "execution_count": 6,
   "metadata": {
    "collapsed": true
   },
   "outputs": [],
   "source": [
    "def gaussianKernel(x1, x2, sigma):\n",
    "    #RBFKERNEL returns a radial basis function kernel between x1 and x2\n",
    "    #   sim = gaussianKernel(x1, x2) returns a gaussian kernel between x1 and x2\n",
    "    #   and returns the value in sim\n",
    "\n",
    "    # Ensure that x1 and x2 are column vectors\n",
    "    x1 = x1.reshape((x1.size, 1))\n",
    "    x2 = x2.reshape((x1.size, 1))\n",
    "\n",
    "    # You need to return the following variables correctly.\n",
    "    sim = 0\n",
    "\n",
    "    sim = np.exp(-np.sum((x1-x2)**2)/2/sigma/sigma)\n",
    "\n",
    "    return sim"
   ]
  },
  {
   "cell_type": "code",
   "execution_count": 7,
   "metadata": {},
   "outputs": [
    {
     "name": "stdout",
     "output_type": "stream",
     "text": [
      "\n",
      "Evaluating the Gaussian Kernel ...\n",
      "\n",
      "Gaussian Kernel between x1 = [1; 2; 1], x2 = [0; 4; -1], sigma = 2.000000 :\n",
      "\t0.324652\n",
      "(for sigma = 2, this value should be about 0.324652)\n",
      "\n"
     ]
    }
   ],
   "source": [
    "# =============== Part 3: Implementing Gaussian Kernel ===============\n",
    "#  You will now implement the Gaussian kernel to use\n",
    "#  with the SVM. You should complete the code in gaussianKernel.m\n",
    "#\n",
    "print('\\nEvaluating the Gaussian Kernel ...\\n')\n",
    "\n",
    "x1 = np.array([1, 2, 1])\n",
    "x2 = np.array([0, 4, -1])\n",
    "sigma = 2\n",
    "sim = gaussianKernel(x1, x2, sigma)\n",
    "\n",
    "print('Gaussian Kernel between x1 = [1; 2; 1], x2 = [0; 4; -1], sigma = %f :\\n\\t%f\\n(for sigma = 2, this value should be about 0.324652)\\n' % (sigma, sim))"
   ]
  },
  {
   "cell_type": "markdown",
   "metadata": {},
   "source": [
    "#### 1.2.2 Example Dataset 2\n",
    "\n",
    "The next part will load and plot dataset 2 (Figure 4). From the figure, you can obserse that there is no linear decision boundary that separates the positive and negative examples for this dataset. However, by using the Gaussian kernel with the SVM, you will be able to learn a non-linear decision boundary that can perform reasonably well for the dataset. If you have correctly implemented the Gaussian kernel function, ex6.m will proceed to train the SVM with the Gaussian kernel on this dataset.\n",
    "\n",
    "Figure 5 shows the decision boundary found by the SVM with a Gaussian kernel. The decision boundary is able to separate most of the positive and negative examples correctly and follows the contours of the dataset well."
   ]
  },
  {
   "cell_type": "code",
   "execution_count": 8,
   "metadata": {},
   "outputs": [
    {
     "name": "stdout",
     "output_type": "stream",
     "text": [
      "Loading and Visualizing Data ...\n",
      "\n"
     ]
    }
   ],
   "source": [
    "# =============== Part 4: Visualizing Dataset 2 ================\n",
    "#  The following code will load the next dataset into your environment and \n",
    "#  plot the data. \n",
    "#\n",
    "\n",
    "print('Loading and Visualizing Data ...\\n')\n",
    "\n",
    "# Load from ex6data2: \n",
    "# You will have X, y in your environment\n",
    "a = scipy.io.loadmat('ex6data2.mat')\n",
    "X = a['X']\n",
    "y = a['y']"
   ]
  },
  {
   "cell_type": "code",
   "execution_count": 9,
   "metadata": {},
   "outputs": [
    {
     "data": {
      "image/png": "[encoded data removed]",
      "text/plain": [
       "<matplotlib.figure.Figure at 0x7f62bdc62400>"
      ]
     },
     "metadata": {},
     "output_type": "display_data"
    }
   ],
   "source": [
    "# Plot training data\n",
    "plotData(X, y)"
   ]
  },
  {
   "cell_type": "code",
   "execution_count": 10,
   "metadata": {},
   "outputs": [
    {
     "name": "stdout",
     "output_type": "stream",
     "text": [
      "\n",
      "Training SVM with RBF Kernel (this may take 1 to 2 minutes) ...\n",
      "\n"
     ]
    },
    {
     "data": {
      "text/plain": [
       "<matplotlib.text.Text at 0x7f62bdbfd2e8>"
      ]
     },
     "execution_count": 10,
     "metadata": {},
     "output_type": "execute_result"
    },
    {
     "data": {
      "image/png": "[encoded data removed]",
      "text/plain": [
       "<matplotlib.figure.Figure at 0x7f62f39f41d0>"
      ]
     },
     "metadata": {},
     "output_type": "display_data"
    }
   ],
   "source": [
    "# ========== Part 5: Training SVM with RBF Kernel (Dataset 2) ==========\n",
    "#  After you have implemented the kernel, we can now use it to train the \n",
    "#  SVM classifier.\n",
    "# \n",
    "print('\\nTraining SVM with RBF Kernel (this may take 1 to 2 minutes) ...\\n');\n",
    "\n",
    "# Load from ex6data2: \n",
    "# You will have X, y in your environment\n",
    "a = scipy.io.loadmat('ex6data2.mat')\n",
    "X = a['X']\n",
    "y = a['y']\n",
    "\n",
    "# SVM Parameters\n",
    "C = 1\n",
    "sigma = 0.1\n",
    "gamma = 1 / 2 / sigma**2\n",
    "\n",
    "# We set the tolerance and max_passes lower here so that the code will run\n",
    "# faster. However, in practice, you will want to run the training to\n",
    "# convergence.\n",
    "clf = sklearn.svm.SVC(C=C, kernel='rbf', gamma=gamma)\n",
    "clf.fit(X, y.ravel()) \n",
    "\n",
    "visualizeBoundary(X, y, clf)\n",
    "plt.title('C=%f'%C)"
   ]
  },
  {
   "cell_type": "code",
   "execution_count": 11,
   "metadata": {},
   "outputs": [
    {
     "data": {
      "text/plain": [
       "<matplotlib.text.Text at 0x7f62bdb651d0>"
      ]
     },
     "execution_count": 11,
     "metadata": {},
     "output_type": "execute_result"
    },
    {
     "data": {
      "image/png": "[encoded data removed]",
      "text/plain": [
       "<matplotlib.figure.Figure at 0x7f62bdbbeba8>"
      ]
     },
     "metadata": {},
     "output_type": "display_data"
    }
   ],
   "source": [
    "# SVM Parameters\n",
    "C = 100\n",
    "sigma = 0.1\n",
    "gamma = 1 / 2 / sigma**2\n",
    "\n",
    "# train SVM with gaussian kernel\n",
    "clf = sklearn.svm.SVC(C=C, kernel='rbf', gamma=gamma)\n",
    "clf.fit(X, y.ravel()) \n",
    "\n",
    "visualizeBoundary(X, y, clf)\n",
    "plt.title('C=%f'%C)"
   ]
  },
  {
   "cell_type": "markdown",
   "metadata": {},
   "source": [
    "#### 1.2.3 Example Dataset 3\n",
    "In this part of the exercise, you will gain more practical skills on how to use a SVM with a Gaussian kernel. The next part of the script will load and display a third dataset (Figure 6). You will be using the SVM with the Gaussian kernel with this dataset.\n",
    "\n",
    "In the provided dataset, ex6data3, you are given the variables X, y, Xval, yval. The provided code in ex6.m trains the SVM classifier using the training set (X, y) using parameters loaded from dataset3Params.m. \n",
    "\n",
    "Your task is to use the cross validation set Xval, yval to determine the best C and $\\sigma$ parameter to use. You should write any additional code necessary to help you search over the parameters C and $\\sigma$. For both C and $\\sigma$, we suggest trying values in multiplicative steps (e.g., 0.01, 0.03, 0.1, 0.3, 1, 3, 10, 30). Note that you should try all possible pairs of values for C and $\\sigma$ (e.g., C = 0.3 and $\\sigma$ = 0.1). For example, if you try each of the 8 values listed above for C and for $\\sigma^2$, you would end up training and evaluating (on the cross validation set) a total of $8^2 = 64$ different models. \n",
    "\n",
    "After you have determined the best C and $\\sigma$ parameters to use, you should modify the code in dataset3Params, filling in the best parameters you found. For our best parameters, the SVM returned a decision boundary shown in Figure 7.\n",
    "\n"
   ]
  },
  {
   "cell_type": "code",
   "execution_count": 12,
   "metadata": {},
   "outputs": [
    {
     "name": "stdout",
     "output_type": "stream",
     "text": [
      "Loading and Visualizing Data ...\n",
      "\n"
     ]
    }
   ],
   "source": [
    "# =============== Part 6: Visualizing Dataset 3 ================\n",
    "#  The following code will load the next dataset into your environment and \n",
    "#  plot the data. \n",
    "#\n",
    "\n",
    "print('Loading and Visualizing Data ...\\n')\n",
    "\n",
    "# Load from ex6data3: \n",
    "# You will have X, y in your environment\n",
    "a = scipy.io.loadmat('ex6data3.mat')\n",
    "X = a['X']\n",
    "y = a['y']\n",
    "Xval = a['Xval']\n",
    "yval = a['yval']"
   ]
  },
  {
   "cell_type": "code",
   "execution_count": 13,
   "metadata": {
    "scrolled": true
   },
   "outputs": [
    {
     "data": {
      "image/png": "[encoded data removed]",
      "text/plain": [
       "<matplotlib.figure.Figure at 0x7f62f164fc18>"
      ]
     },
     "metadata": {},
     "output_type": "display_data"
    }
   ],
   "source": [
    "# Plot training data\n",
    "plotData(X, y)"
   ]
  },
  {
   "cell_type": "code",
   "execution_count": 14,
   "metadata": {
    "collapsed": true
   },
   "outputs": [],
   "source": [
    "def dataset3Params(X, y, Xval, yval):\n",
    "#DATASET3PARAMS returns your choice of C and sigma for Part 3 of the exercise\n",
    "#where you select the optimal (C, sigma) learning parameters to use for SVM\n",
    "#with RBF kernel\n",
    "#   [C, sigma] = DATASET3PARAMS(X, y, Xval, yval) returns your choice of C and \n",
    "#   sigma. You should complete this function to return the optimal C and \n",
    "#   sigma based on a cross-validation set.\n",
    "#\n",
    "\n",
    "# You need to return the following variables correctly.\n",
    "# C = 1;\n",
    "# sigma = 0.1;\n",
    "\n",
    "    C_vec = np.array([0.01, 0.03, 0.1, 0.3, 1, 3, 10, 30]);\n",
    "    sigma_vec = np.array([0.01, 0.03, 0.1, 0.3, 1, 3, 10, 30]);\n",
    "\n",
    "    best_error = math.inf\n",
    "\n",
    "    for cur_C in C_vec:\n",
    "        for cur_sigma in sigma_vec:\n",
    "            gamma = 1 / 2 / cur_sigma**2\n",
    "            clf = sklearn.svm.SVC(C=cur_C, kernel='rbf', gamma=gamma)\n",
    "            clf.fit(X, y.ravel()) \n",
    "\n",
    "            prediction = clf.predict(Xval)\n",
    "            \n",
    "            error = np.mean(prediction!=yval.flatten());\n",
    "            \n",
    "            if(error < best_error):\n",
    "                best_error = error\n",
    "                C = cur_C\n",
    "                sigma = cur_sigma\n",
    "\n",
    "    print('Best parameter found C=%f sigma=%f: error=%f' % (C, sigma, best_error))\n",
    "    \n",
    "    return (C, sigma)"
   ]
  },
  {
   "cell_type": "code",
   "execution_count": 15,
   "metadata": {},
   "outputs": [
    {
     "name": "stdout",
     "output_type": "stream",
     "text": [
      "Best parameter found C=1.000000 sigma=0.100000: error=0.035000\n"
     ]
    },
    {
     "data": {
      "text/plain": [
       "<matplotlib.text.Text at 0x7f62bdb388d0>"
      ]
     },
     "execution_count": 15,
     "metadata": {},
     "output_type": "execute_result"
    },
    {
     "data": {
      "image/png": "[encoded data removed]",
      "text/plain": [
       "<matplotlib.figure.Figure at 0x7f62bdb28eb8>"
      ]
     },
     "metadata": {},
     "output_type": "display_data"
    }
   ],
   "source": [
    "# ========== Part 7: Training SVM with RBF Kernel (Dataset 3) ==========\n",
    "\n",
    "#  This is a different dataset that you can use to experiment with. Try\n",
    "#  different values of C and sigma here.\n",
    "# \n",
    "\n",
    "# Load from ex6data3: \n",
    "# You will have X, y in your environment\n",
    "a = scipy.io.loadmat('ex6data3.mat')\n",
    "X = a['X']\n",
    "y = a['y']\n",
    "Xval = a['Xval']\n",
    "yval = a['yval']\n",
    "\n",
    "# Try different SVM Parameters here\n",
    "C, sigma = dataset3Params(X, y, Xval, yval);\n",
    "gamma = 1 / 2 / sigma**2\n",
    "\n",
    "# train SVM with gaussian kernel\n",
    "clf = sklearn.svm.SVC(C=C, kernel='rbf', gamma=gamma)\n",
    "clf.fit(X, y.ravel()) \n",
    "\n",
    "p = clf.predict(Xval)\n",
    "\n",
    "visualizeBoundary(Xval, yval, clf)\n",
    "plt.title('C=%f, sigma=%f'% (C, sigma))"
   ]
  },
  {
   "cell_type": "markdown",
   "metadata": {},
   "source": [
    "# 2 Spam Classification\n",
    "\n",
    "Many email services today provide spam filters that are able to classify emails into spam and non-spam email with high accuracy. In this part of the exercise, you will use SVMs to build your own spam filter. You will be training a classifier to classify whether a given email, x, is spam (y = 1) or non-spam (y = 0). In particular, you need to convert each email into a feature vector $x \\in \\Bbb{R}^n$. The following parts of the exercise will walk you through how such a feature vector can be constructed from an email.\n",
    "\n",
    "Throughout the rest of this exercise, you will be using the the below script. The dataset included for this exercise is based on a a subset of the SpamAssassin Public Corpus. For the purpose of this exercise, you will only be using the body of the email (excluding the email headers)."
   ]
  },
  {
   "cell_type": "code",
   "execution_count": 30,
   "metadata": {
    "collapsed": true
   },
   "outputs": [],
   "source": [
    "import re\n",
    "import nltk\n",
    "import sys"
   ]
  },
  {
   "cell_type": "markdown",
   "metadata": {},
   "source": [
    "### 2.1 Preprocessing Emails\n",
    "Before starting on a machine learning task, it is usually insightful to take a look at examples from the dataset. Figure 8 shows a sample email that contains a URL, an email address (at the end), numbers, and dollar amounts. While many emails would contain similar types of entities (e.g., numbers, other URLs, or other email addresses), the specific entities (e.g., the specific URL or specific dollar amount) will be di↵erent in almost every email. Therefore, one method often employed in processing emails is to “normalize” these values, so that all URLs are treated the same, all numbers are treated the same, etc. For example, we could replace each URL in the email with the unique string “httpaddr” to indicate that a URL was present. \n",
    "\n",
    "\n",
    "This has the effect of letting the spam classifier make a classification decision based on whether any URL was present, rather than whether a specific URL was present. This typically improves the performance of a spam classifier, since spammers often randomize the URLs, and thus the odds of seeing any particular URL again in a new piece of spam is very small. In processEmail.m, we have implemented the following email preprocessing and normalization steps:\n",
    "\n",
    "\n",
    "* Lower-casing: The entire email is converted into lower case, so that captialization is ignored (e.g., IndIcaTE is treated the same as Indicate).\n",
    "* Stripping HTML: All HTML tags are removed from the emails. Many emails often come with HTML formatting; we remove all the HTML tags, so that only the content remains.\n",
    "* Normalizing URLs: All URLs are replaced with the text \"httpaddr\".\n",
    "* Normalizing Email Addresses: All email addresses are replaced with the text \"emailaddr\".\n",
    "* Normalizing Numbers: All numbers are replaced with the text \"number\".\n",
    "* Normalizing Dollars: All dollar signs (`$`) are replaced with the text \"dollar\".\n",
    "* Word Stemming: Words are reduced to their stemmed form. For example, “discount”, “discounts”, “discounted” and “discounting” are all replaced with “discount”. Sometimes, the Stemmer actually strips off additional characters from the end, so “include”, “includes”, “included”, and “including” are all replaced with “includ”.\n",
    "* Removal of non-words: Non-words and punctuation have been removed. All white spaces (tabs, newlines, spaces) have all been trimmed to a single space character.\n",
    "\n",
    "The result of these preprocessing steps is shown in Figure 9. While preprocessing has left word fragments and non-words, this form turns out to be much easier to work with for performing feature extraction."
   ]
  },
  {
   "cell_type": "code",
   "execution_count": 17,
   "metadata": {
    "collapsed": true
   },
   "outputs": [],
   "source": [
    "def readFile(filename):\n",
    "#READFILE reads a file and returns its entire contents \n",
    "#   file_contents = READFILE(filename) reads a file and returns its entire\n",
    "#   contents in file_contents\n",
    "#\n",
    "    # Load File   \n",
    "    with open(filename, 'r') as fid:\n",
    "        file_contents = fid.read()\n",
    "    \n",
    "    return file_contents"
   ]
  },
  {
   "cell_type": "code",
   "execution_count": 18,
   "metadata": {
    "collapsed": true
   },
   "outputs": [],
   "source": [
    "def getVocabList():\n",
    "#GETVOCABLIST reads the fixed vocabulary list in vocab.txt and returns a\n",
    "#cell array of the words\n",
    "#   vocabList = GETVOCABLIST() reads the fixed vocabulary list in vocab.txt \n",
    "#   and returns a cell array of the words in vocabList.\n",
    "\n",
    "    # read vocab file\n",
    "    vfile = np.genfromtxt('vocab.txt', dtype='S42')\n",
    "    \n",
    "    # For ease of implementation, we use a struct to map the strings => integers\n",
    "    # In practice, you'll want to use some form of hashmap\n",
    "    x = OrderedDict()\n",
    "    for ct, word in vfile:\n",
    "        x[word.decode()] = int(ct)\n",
    "    \n",
    "    return x"
   ]
  },
  {
   "cell_type": "code",
   "execution_count": 19,
   "metadata": {
    "collapsed": true
   },
   "outputs": [],
   "source": [
    "def processEmail(email_contents):\n",
    "    #PROCESSEMAIL preprocesses a the body of an email and\n",
    "    #returns a list of word_indices \n",
    "    #   word_indices = PROCESSEMAIL(email_contents) preprocesses \n",
    "    #   the body of an email and returns a list of indices of the \n",
    "    #   words contained in the email. \n",
    "    #\n",
    "\n",
    "    # Load Vocabulary\n",
    "    vocabList = getVocabList()\n",
    "\n",
    "    # Init return value\n",
    "    word_indices = []\n",
    "\n",
    "    # ========================== Preprocess Email ===========================\n",
    "\n",
    "    # Find the Headers ( \\n\\n and remove )\n",
    "    # Uncomment the following lines if you are working with raw emails with the\n",
    "    # full headers\n",
    "\n",
    "    # hdrstart = strfind(email_contents, ([char(10) char(10)]));\n",
    "    # email_contents = email_contents(hdrstart(1):end);\n",
    "\n",
    "    # Lower case\n",
    "    email_contents = email_contents.lower()\n",
    "\n",
    "    # Strip all HTML\n",
    "    # Looks for any expression that starts with < and ends with > and replace\n",
    "    # and does not have any < or > in the tag it with a space\n",
    "    email_contents = re.sub('<[^<>]+>', ' ', email_contents)\n",
    "\n",
    "    # Handle Numbers\n",
    "    # Look for one or more characters between 0-9\n",
    "    email_contents = re.sub('[0-9]+', 'number', email_contents)\n",
    "\n",
    "    # Handle URLS\n",
    "    # Look for strings starting with http:// or https://\n",
    "    email_contents = re.sub('(http|https)://[^\\s]*', 'httpaddr', email_contents)\n",
    "\n",
    "    # Handle Email Addresses\n",
    "    # Look for strings with @ in the middle\n",
    "    email_contents = re.sub('[^\\s]+@[^\\s]+', 'emailaddr', email_contents)\n",
    "\n",
    "    # Handle $ sign\n",
    "    email_contents = re.sub('[$]+', 'dollar', email_contents)\n",
    "\n",
    "\n",
    "    # ========================== Tokenize Email ===========================\n",
    "\n",
    "    # Output the email to screen as well\n",
    "    print('\\n==== Processed Email ====\\n\\n')\n",
    "\n",
    "    # Process file\n",
    "    l = 0\n",
    "\n",
    "    # Tokenize and also get rid of any punctuation\n",
    "    tokens = re.split( '[ ' + \n",
    "                      re.escape(\"@$/#.-:&*+=[]?!(){},'\\\">_<;%\") + '\\r\\n]', \n",
    "                      email_contents )\n",
    "    \n",
    "    stemmer = nltk.stem.PorterStemmer()\n",
    "    \n",
    "    for token in tokens:\n",
    "        token = re.sub('[^a-zA-Z0-9]','', token)\n",
    "        token = stemmer.stem(token.strip())\n",
    "        \n",
    "        #if(l < 78):\n",
    "        #    print(token, len(token))\n",
    "            \n",
    "        if len(token) < 1:\n",
    "            continue\n",
    "        \n",
    "        if str(token) in vocabList:\n",
    "            word_indices.append(vocabList[str(token)])\n",
    "            \n",
    "        # Print to screen, ensuring that the output lines are not too long\n",
    "        if (l + len(token) + 1) > 78:\n",
    "            sys.stdout.write('\\n')\n",
    "            l = 0\n",
    "            \n",
    "        sys.stdout.write('%s ' % token)\n",
    "        l = l + len(token) + 1\n",
    "\n",
    "    # Print footer\n",
    "    print('\\n\\n=========================\\n');\n",
    "    \n",
    "    return word_indices"
   ]
  },
  {
   "cell_type": "code",
   "execution_count": 20,
   "metadata": {},
   "outputs": [
    {
     "name": "stdout",
     "output_type": "stream",
     "text": [
      "\n",
      "Preprocessing sample email (emailSample1.txt)\n",
      "\n",
      "\n",
      "==== Processed Email ====\n",
      "\n",
      "\n",
      "anyon know how much it cost to host a web portal well it depend on how mani \n",
      "visitor you re expect thi can be anywher from less than number buck a month \n",
      "to a coupl of dollarnumb you should checkout httpaddr or perhap amazon ecnumb \n",
      "if your run someth big to unsubscrib yourself from thi mail list send an \n",
      "email to emailaddr \n",
      "\n",
      "=========================\n",
      "\n",
      "Word Indices: \n",
      "\n",
      "[86, 916, 794, 1077, 883, 370, 1699, 790, 1822, 1831, 883, 431, 1171, 794, 1002, 1893, 1364, 592, 1676, 238, 162, 89, 688, 945, 1663, 1120, 1062, 1699, 375, 1162, 479, 1893, 1510, 799, 1182, 1237, 810, 1895, 1440, 1547, 181, 1699, 1758, 1896, 688, 1676, 992, 961, 1477, 71, 530, 1699, 531]\n",
      "\n",
      "\n",
      "\n"
     ]
    }
   ],
   "source": [
    "# ==================== Part 1: Email Preprocessing ====================\n",
    "#  To use an SVM to classify emails into Spam v.s. Non-Spam, you first need\n",
    "#  to convert each email into a vector of features. In this part, you will\n",
    "#  implement the preprocessing steps for each email. You should\n",
    "#  complete the code in processEmail.m to produce a word indices vector\n",
    "#  for a given email.\n",
    "\n",
    "print('\\nPreprocessing sample email (emailSample1.txt)\\n')\n",
    "\n",
    "# Extract Features\n",
    "file_contents = readFile('emailSample1.txt')\n",
    "word_indices  = processEmail(file_contents)\n",
    "\n",
    "# Print Stats\n",
    "print('Word Indices: \\n')\n",
    "print(word_indices)\n",
    "print('\\n\\n')"
   ]
  },
  {
   "cell_type": "markdown",
   "metadata": {},
   "source": [
    "### 2.1.1 Vocabulary List\n",
    "After preprocessing the emails, we have a list of words (e.g., Figure 9) for each email. The next step is to choose which words we would like to use in our classifier and which we would want to leave out. \n",
    "\n",
    "For this exercise, we have chosen only the most frequently occuring words as our set of words considered (the vocabulary list). Since words that occur rarely in the training set are only in a few emails, they might cause the model to overfit our training set. The complete vocabulary list is in the file vocab.txt and also shown in Figure 10. Our vocabulary list was selected by choosing all words which occur at least a 100 times in the spam corpus, resulting in a list of 1899 words. In practice, a vocabulary list with about 10,000 to 50,000 words is often used.\n",
    "\n",
    "\n",
    "Given the vocabulary list, we can now map each word in the preprocessed emails (e.g., Figure 9) into a list of word indices that contains the index of the word in the vocabulary list. Figure 11 shows the mapping for the sample email. Specifically, in the sample email, the word “anyone” was first normalized to “anyon” and then mapped onto the index 86 in the vocabulary list.\n",
    "\n",
    "Your task now is to complete the code in processEmail.m to perform this mapping. In the code, you are given a string str which is a single word from the processed email. You should look up the word in the vocabulary list vocabList and find if the word exists in the vocabulary list. If the word exists, you should add the index of the word into the word indices variable. If the word does not exist, and is therefore not in the vocabulary, you can skip the word.\n",
    "\n",
    "Once you have implemented processEmail, the script ex6 spam.m will run your code on the email sample and you should see an output similar to Figures 9 & 11."
   ]
  },
  {
   "cell_type": "markdown",
   "metadata": {},
   "source": [
    "### 2.2 Extracting Features from Emails\n",
    "\n",
    "You will now implement the feature extraction that converts each email into a vector in Rn. For this exercise, youwill be using n = # words in vocabulary list. Specifically, the feature $x_i \\in \\{0, 1\\}$ for an email corresponds to whether the i-th word in the dictionary occurs in the email. That is, $x_i = 1$ if the i-th word is in the email and $x_i = 0$ if the i-th word is not present in the email. \n",
    "\n",
    "Thus, for a typical email, this feature would look like:\n",
    "$$ x = \\begin{bmatrix}\n",
    "    0 \\\\\n",
    "    \\vdots \\\\\n",
    "    1 \\\\\n",
    "    0 \\\\\n",
    "    \\vdots \\\\\n",
    "    1 \\\\\n",
    "    0 \\\\\n",
    "    \\vdots \\\\\n",
    "    0 \\\\\n",
    "    \\end{bmatrix} \\in \\Bbb{R}^n$$\n",
    "\n",
    "You should now complete the code in emailFeatures.m to generate a feature vector for an email, given the word indices.\n",
    "\n",
    "Once you have implemented emailFeatures, the next part of script will run your code on the email sample. You should see that the feature vector had length 1899 and 45 non-zero entries."
   ]
  },
  {
   "cell_type": "code",
   "execution_count": 21,
   "metadata": {
    "collapsed": true
   },
   "outputs": [],
   "source": [
    "def emailFeatures(word_indices):\n",
    "#EMAILFEATURES takes in a word_indices vector and produces a feature vector\n",
    "#from the word indices\n",
    "#   x = EMAILFEATURES(word_indices) takes in a word_indices vector and \n",
    "#   produces a feature vector from the word indices. \n",
    "\n",
    "    # Total number of words in the dictionary\n",
    "    n = 1899\n",
    "\n",
    "    # You need to return the following variables correctly.\n",
    "    x = np.zeros(n)\n",
    "\n",
    "    for i in word_indices:\n",
    "        x[i-1] = 1\n",
    "    \n",
    "    return x"
   ]
  },
  {
   "cell_type": "code",
   "execution_count": 22,
   "metadata": {},
   "outputs": [
    {
     "name": "stdout",
     "output_type": "stream",
     "text": [
      "\n",
      "Extracting features from sample email (emailSample1.txt)\n",
      "\n",
      "\n",
      "==== Processed Email ====\n",
      "\n",
      "\n",
      "anyon know how much it cost to host a web portal well it depend on how mani \n",
      "visitor you re expect thi can be anywher from less than number buck a month \n",
      "to a coupl of dollarnumb you should checkout httpaddr or perhap amazon ecnumb \n",
      "if your run someth big to unsubscrib yourself from thi mail list send an \n",
      "email to emailaddr \n",
      "\n",
      "=========================\n",
      "\n",
      "Length of feature vector: 1899\n",
      "\n",
      "Number of non-zero entries: 45\n",
      "\n"
     ]
    }
   ],
   "source": [
    "# ==================== Part 2: Feature Extraction ====================\n",
    "#  Now, you will convert each email into a vector of features in R^n. \n",
    "#  You should complete the code in emailFeatures.m to produce a feature\n",
    "#  vector for a given email.\n",
    "\n",
    "print('\\nExtracting features from sample email (emailSample1.txt)\\n')\n",
    "\n",
    "# Extract Features\n",
    "file_contents = readFile('emailSample1.txt')\n",
    "word_indices  = processEmail(file_contents)\n",
    "features      = emailFeatures(word_indices)\n",
    "\n",
    "# Print Stats\n",
    "print('Length of feature vector: %d\\n' % len(features))\n",
    "print('Number of non-zero entries: %d\\n'% sum(features > 0))"
   ]
  },
  {
   "cell_type": "markdown",
   "metadata": {},
   "source": [
    "## 2.3 Training SVM for Spam Classification\n",
    "\n",
    "After you have completed the feature extraction functions, the next step of script will load a preprocessed training dataset that will be used to train a SVM classifier. spamTrain.mat contains 4000 training examples of spam and non-spam email, while spamTest.mat contains 1000 test examples. Each original email was processed using the processEmail and emailFeatures functions and converted into a vector $x^{(i)} \\in  \\Bbb{R}1899$.\n",
    "\n",
    "After loading the dataset, the script will proceed to train a SVM to classify between spam (y = 1) and non-spam (y = 0) emails. Once the training completes, you should see that the classifier gets a training accuracy of about 99.8% and a test accuracy of about 98.5%."
   ]
  },
  {
   "cell_type": "code",
   "execution_count": 23,
   "metadata": {},
   "outputs": [
    {
     "name": "stdout",
     "output_type": "stream",
     "text": [
      "\n",
      "Training Linear SVM (Spam Classification)\n",
      "\n",
      "(this may take 1 to 2 minutes) ...\n",
      "\n",
      "Training Accuracy: 99.825000\n",
      "\n"
     ]
    }
   ],
   "source": [
    "# =========== Part 3: Train Linear SVM for Spam Classification ========\n",
    "#  In this section, you will train a linear classifier to determine if an\n",
    "#  email is Spam or Not-Spam.\n",
    "\n",
    "# Load the Spam Email dataset\n",
    "# You will have X, y in your environment\n",
    "mat = scipy.io.loadmat('spamTrain.mat')\n",
    "X = mat['X']\n",
    "y = mat['y']\n",
    "\n",
    "print('\\nTraining Linear SVM (Spam Classification)\\n')\n",
    "print('(this may take 1 to 2 minutes) ...\\n')\n",
    "\n",
    "C = 0.1\n",
    "model = sklearn.svm.SVC(C=C, kernel='linear')\n",
    "model.fit(X, y.ravel())\n",
    "\n",
    "p = model.predict(X)\n",
    "\n",
    "print('Training Accuracy: %f\\n' % (np.mean(p == y.ravel()) * 100));"
   ]
  },
  {
   "cell_type": "code",
   "execution_count": 24,
   "metadata": {},
   "outputs": [
    {
     "name": "stdout",
     "output_type": "stream",
     "text": [
      "\n",
      "Evaluating the trained Linear SVM on a test set ...\n",
      "\n",
      "Test Accuracy: 98.900000\n",
      "\n"
     ]
    }
   ],
   "source": [
    "# ================= Part 4: Test Spam Classification ================\n",
    "# After training the classifier, we can evaluate it on a test set. We have\n",
    "# included a test set in spamTest.mat\n",
    "\n",
    "# Load the test dataset\n",
    "# You will have Xtest, ytest in your environment\n",
    "mat = scipy.io.loadmat('spamTest.mat')\n",
    "Xtest = mat['Xtest']\n",
    "ytest = mat['ytest']\n",
    "\n",
    "print('\\nEvaluating the trained Linear SVM on a test set ...\\n')\n",
    "\n",
    "p = model.predict(Xtest)\n",
    "\n",
    "print('Test Accuracy: %f\\n' % (np.mean((p == ytest.ravel())) * 100))"
   ]
  },
  {
   "cell_type": "markdown",
   "metadata": {},
   "source": [
    "## 2.4 Top Predictors for Spam\n",
    "\n",
    "To better understand how the spam classifier works, we can inspect the parameters to see which words the classifier thinks are the most predictive of spam. The next step of script finds the parameters with the largest positive values in the classifier and displays the corresponding words (Figure 12). Thus, if an email contains words such as “guarantee”, “remove”, “dollar”, and “price” (the top predictors shown in Figure 12), it is likely to be classified as spam."
   ]
  },
  {
   "cell_type": "code",
   "execution_count": 25,
   "metadata": {},
   "outputs": [
    {
     "name": "stdout",
     "output_type": "stream",
     "text": [
      "\n",
      "Top predictors of spam: \n",
      "\n",
      " our             (0.500614) \n",
      "\n",
      " click           (0.465916) \n",
      "\n",
      " remov           (0.422869) \n",
      "\n",
      " guarante        (0.383622) \n",
      "\n",
      " visit           (0.367710) \n",
      "\n",
      " basenumb        (0.345064) \n",
      "\n",
      " dollar          (0.323632) \n",
      "\n",
      " will            (0.269724) \n",
      "\n",
      " price           (0.267298) \n",
      "\n",
      " pleas           (0.261169) \n",
      "\n",
      " most            (0.257298) \n",
      "\n",
      " nbsp            (0.253941) \n",
      "\n",
      " lo              (0.253467) \n",
      "\n",
      " ga              (0.248297) \n",
      "\n",
      " hour            (0.246404) \n",
      "\n"
     ]
    }
   ],
   "source": [
    "# ================= Part 5: Top Predictors of Spam ====================\n",
    "#  Since the model we are training is a linear SVM, we can inspect the\n",
    "#  weights learned by the model to understand better how it is determining\n",
    "#  whether an email is spam or not. The following code finds the words with\n",
    "#  the highest weights in the classifier. Informally, the classifier\n",
    "#  'thinks' that these words are the most likely indicators of spam.\n",
    "#\n",
    "\n",
    "# Sort the weights and obtain the vocabulary list\n",
    "idx = np.argsort(model.coef_)[0][::-1]\n",
    "vocabList = getVocabList()\n",
    "\n",
    "print('\\nTop predictors of spam: \\n')\n",
    "for i in range(0, 15):\n",
    "    value = idx[i]\n",
    "    token = list(vocabList.keys())[list(vocabList.values()).index(value+1)] # vocab start index at 1\n",
    "    weight = model.coef_.flatten()[value]\n",
    "    print(' %-15s (%f) \\n' % (token, weight))"
   ]
  },
  {
   "cell_type": "markdown",
   "metadata": {},
   "source": [
    "## 2.5 Optional (ungraded) exercise: Try your own emails\n",
    "Now that you have trained a spam classifier, you can start trying it out on your own emails. In the starter code, we have included two email examples (emailSample1.txt and emailSample2.txt) and two spam examples (spamSample1.txt and spamSample2.txt). The last part of script runs the spam classifier over the first spam example and classifies it using the learned SVM. You should now try the other examples we have provided and see if the classifier gets them right. You can also try your own emails by replacing the examples (plain text files) with your own emails."
   ]
  },
  {
   "cell_type": "code",
   "execution_count": 26,
   "metadata": {},
   "outputs": [
    {
     "name": "stdout",
     "output_type": "stream",
     "text": [
      "\n",
      "==== Processed Email ====\n",
      "\n",
      "\n",
      "do you want to make dollarnumb or more per week if you are a motiv and \n",
      "qualifi individu i will person demonstr to you a system that will make you \n",
      "dollarnumb number per week or more thi is not mlm call our number hour pre \n",
      "record number to get the detail number number number i need peopl who want to \n",
      "make seriou money make the call and get the fact invest number minut in \n",
      "yourself now number number number look forward to your call and i will \n",
      "introduc you to peopl like yourself who are current make dollarnumb number \n",
      "plu per week number number number numberljgvnumb numberleannumberlrmsnumb \n",
      "numberwxhonumberqiytnumb numberrjuvnumberhqcfnumb numbereidbnumberdmtvlnumb \n",
      "\n",
      "=========================\n",
      "\n",
      "\n",
      "Processed spamSample1.txt\n",
      "\n",
      "Spam Classification: 1\n",
      "\n",
      "(1 indicates spam, 0 indicates not spam)\n",
      "\n",
      "\n"
     ]
    }
   ],
   "source": [
    "# =================== Part 6: Try Your Own Emails =====================\n",
    "#  Now that you've trained the spam classifier, you can use it on your own\n",
    "#  emails! In the starter code, we have included spamSample1.txt,\n",
    "#  spamSample2.txt, emailSample1.txt and emailSample2.txt as examples. \n",
    "#  The following code reads in one of these emails and then uses your \n",
    "#  learned SVM classifier to determine whether the email is Spam or \n",
    "#  Not Spam\n",
    "\n",
    "# Set the file to be read in (change this to spamSample2.txt,\n",
    "# emailSample1.txt or emailSample2.txt to see different predictions on\n",
    "# different emails types). Try your own emails as well!\n",
    "filename = 'spamSample1.txt'\n",
    "\n",
    "# Read and predict\n",
    "file_contents = readFile(filename)\n",
    "word_indices  = processEmail(file_contents)\n",
    "x             = emailFeatures(word_indices)\n",
    "\n",
    "p = model.predict(x)\n",
    "\n",
    "\n",
    "print('\\nProcessed %s\\n\\nSpam Classification: %d\\n' % (filename, p))\n",
    "print('(1 indicates spam, 0 indicates not spam)\\n\\n')"
   ]
  },
  {
   "cell_type": "code",
   "execution_count": 27,
   "metadata": {},
   "outputs": [
    {
     "name": "stdout",
     "output_type": "stream",
     "text": [
      "\n",
      "==== Processed Email ====\n",
      "\n",
      "\n",
      "best buy viagra gener onlin viagra numbermg x number pill dollarnumb free \n",
      "pill reorder discount top sell number qualiti satisfact guarante we accept \n",
      "visa master e check payment number satisfi custom httpaddr \n",
      "\n",
      "=========================\n",
      "\n",
      "\n",
      "Processed spamSample2.txt\n",
      "\n",
      "Spam Classification: 1\n",
      "\n",
      "(1 indicates spam, 0 indicates not spam)\n",
      "\n",
      "\n"
     ]
    }
   ],
   "source": [
    "filename = 'spamSample2.txt'\n",
    "\n",
    "# Read and predict\n",
    "file_contents = readFile(filename)\n",
    "word_indices  = processEmail(file_contents)\n",
    "x             = emailFeatures(word_indices)\n",
    "\n",
    "p = model.predict(x)\n",
    "\n",
    "\n",
    "print('\\nProcessed %s\\n\\nSpam Classification: %d\\n' % (filename, p))\n",
    "print('(1 indicates spam, 0 indicates not spam)\\n\\n')"
   ]
  },
  {
   "cell_type": "code",
   "execution_count": 28,
   "metadata": {},
   "outputs": [
    {
     "name": "stdout",
     "output_type": "stream",
     "text": [
      "\n",
      "==== Processed Email ====\n",
      "\n",
      "\n",
      "anyon know how much it cost to host a web portal well it depend on how mani \n",
      "visitor you re expect thi can be anywher from less than number buck a month \n",
      "to a coupl of dollarnumb you should checkout httpaddr or perhap amazon ecnumb \n",
      "if your run someth big to unsubscrib yourself from thi mail list send an \n",
      "email to emailaddr \n",
      "\n",
      "=========================\n",
      "\n",
      "\n",
      "Processed emailSample1.txt\n",
      "\n",
      "Spam Classification: 0\n",
      "\n",
      "(1 indicates spam, 0 indicates not spam)\n",
      "\n",
      "\n"
     ]
    }
   ],
   "source": [
    "filename = 'emailSample1.txt'\n",
    "\n",
    "# Read and predict\n",
    "file_contents = readFile(filename)\n",
    "word_indices  = processEmail(file_contents)\n",
    "x             = emailFeatures(word_indices)\n",
    "\n",
    "p = model.predict(x)\n",
    "\n",
    "\n",
    "print('\\nProcessed %s\\n\\nSpam Classification: %d\\n' % (filename, p))\n",
    "print('(1 indicates spam, 0 indicates not spam)\\n\\n')"
   ]
  },
  {
   "cell_type": "code",
   "execution_count": 29,
   "metadata": {},
   "outputs": [
    {
     "name": "stdout",
     "output_type": "stream",
     "text": [
      "\n",
      "==== Processed Email ====\n",
      "\n",
      "\n",
      "folk my first time post have a bit of unix experi but am new to linux just \n",
      "got a new pc at home dell box with window xp ad a second hard disk for linux \n",
      "partit the disk and have instal suse number number from cd which went fine \n",
      "except it didn t pick up my monitor i have a dell brand enumberfpp number lcd \n",
      "flat panel monitor and a nvidia geforcenumb tinumb video card both of which \n",
      "are probabl too new to featur in suse s default set i download a driver from \n",
      "the nvidia websit and instal it use rpm then i ran saxnumb as wa recommend in \n",
      "some post i found on the net but it still doesn t featur my video card in the \n",
      "avail list what next anoth problem i have a dell brand keyboard and if i hit \n",
      "cap lock twice the whole machin crash in linux not window even the on off \n",
      "switch is inact leav me to reach for the power cabl instead if anyon can help \n",
      "me in ani way with these prob i d be realli grate i ve search the net but \n",
      "have run out of idea or should i be go for a differ version of linux such as \n",
      "redhat opinion welcom thank a lot peter irish linux user group emailaddr \n",
      "httpaddr for un subscript inform list maintain emailaddr \n",
      "\n",
      "=========================\n",
      "\n",
      "\n",
      "Processed emailSample2.txt\n",
      "\n",
      "Spam Classification: 0\n",
      "\n",
      "(1 indicates spam, 0 indicates not spam)\n",
      "\n",
      "\n"
     ]
    }
   ],
   "source": [
    "filename = 'emailSample2.txt'\n",
    "\n",
    "# Read and predict\n",
    "file_contents = readFile(filename)\n",
    "word_indices  = processEmail(file_contents)\n",
    "x             = emailFeatures(word_indices)\n",
    "\n",
    "p = model.predict(x)\n",
    "\n",
    "\n",
    "print('\\nProcessed %s\\n\\nSpam Classification: %d\\n' % (filename, p))\n",
    "print('(1 indicates spam, 0 indicates not spam)\\n\\n')"
   ]
  },
  {
   "cell_type": "markdown",
   "metadata": {},
   "source": [
    "## 2.6 Optional (ungraded) exercise: Build your own dataset\n",
    "\n",
    "In this exercise, we provided a preprocessed training set and test set. These datasets were created using the same functions (processEmail.m and emailFeatures.m) that you now have completed. For this optional (ungraded) exercise, you will build your own dataset using the original emails from the SpamAssassin Public Corpus.\n",
    "\n",
    "\n",
    "Your task in this optional (ungraded) exercise is to download the original files from the public corpus and extract them. After extracting them, you should run the processEmail4 and emailFeatures functions on each email to extract a feature vector from each email. This will allow you to build a dataset X, y of examples. You should then randomly divide up the dataset into a training set, a cross validation set and a test set. While you are building your own dataset, we also encourage you to try building your own vocabulary list (by selecting the high frequency words that occur in the dataset) and adding any additional features that you think might be useful.\n",
    "\n",
    "Finally, we also suggest trying to use highly optimized SVM toolboxes such as LIBSVM."
   ]
  }
 ],
 "metadata": {
  "kernelspec": {
   "display_name": "Python 3",
   "language": "python",
   "name": "python3"
  },
  "language_info": {
   "codemirror_mode": {
    "name": "ipython",
    "version": 3
   },
   "file_extension": ".py",
   "mimetype": "text/x-python",
   "name": "python",
   "nbconvert_exporter": "python",
   "pygments_lexer": "ipython3",
   "version": "3.5.2"
  }
 },
 "nbformat": 4,
 "nbformat_minor": 2
}
